{
 "cells": [
  {
   "cell_type": "markdown",
   "id": "f28df429",
   "metadata": {},
   "source": [
    "# 01. Importing Libraries"
   ]
  },
  {
   "cell_type": "code",
   "execution_count": 1,
   "id": "f80df125",
   "metadata": {},
   "outputs": [],
   "source": [
    "# Import libraries\n",
    "import pandas as pd\n",
    "import numpy as np\n",
    "import os"
   ]
  },
  {
   "cell_type": "code",
   "execution_count": 1,
   "id": "a6abc6b8",
   "metadata": {},
   "outputs": [
    {
     "data": {
      "text/plain": [
       "100"
      ]
     },
     "execution_count": 1,
     "metadata": {},
     "output_type": "execute_result"
    }
   ],
   "source": [
    "# Data Types\n",
    "200-100"
   ]
  },
  {
   "cell_type": "code",
   "execution_count": 2,
   "id": "62928fde",
   "metadata": {},
   "outputs": [
    {
     "data": {
      "text/plain": [
       "100"
      ]
     },
     "execution_count": 2,
     "metadata": {},
     "output_type": "execute_result"
    }
   ],
   "source": [
    "50+50"
   ]
  },
  {
   "cell_type": "code",
   "execution_count": 3,
   "id": "333c19bb",
   "metadata": {},
   "outputs": [
    {
     "data": {
      "text/plain": [
       "100"
      ]
     },
     "execution_count": 3,
     "metadata": {},
     "output_type": "execute_result"
    }
   ],
   "source": [
    "70+30"
   ]
  },
  {
   "cell_type": "code",
   "execution_count": 4,
   "id": "faaba5dc",
   "metadata": {},
   "outputs": [],
   "source": [
    "n=5678"
   ]
  },
  {
   "cell_type": "code",
   "execution_count": 6,
   "id": "502ae670",
   "metadata": {},
   "outputs": [],
   "source": [
    "p=320"
   ]
  },
  {
   "cell_type": "code",
   "execution_count": 7,
   "id": "9bbc0c7b",
   "metadata": {},
   "outputs": [
    {
     "data": {
      "text/plain": [
       "0.05635787249031349"
      ]
     },
     "execution_count": 7,
     "metadata": {},
     "output_type": "execute_result"
    }
   ],
   "source": [
    "p/n"
   ]
  },
  {
   "cell_type": "code",
   "execution_count": 12,
   "id": "f8463d9d",
   "metadata": {},
   "outputs": [],
   "source": [
    "a='Hello, '"
   ]
  },
  {
   "cell_type": "code",
   "execution_count": 13,
   "id": "07e9feaf",
   "metadata": {},
   "outputs": [],
   "source": [
    "b='World'"
   ]
  },
  {
   "cell_type": "code",
   "execution_count": 14,
   "id": "a630f5fb",
   "metadata": {},
   "outputs": [
    {
     "data": {
      "text/plain": [
       "'Hello, World'"
      ]
     },
     "execution_count": 14,
     "metadata": {},
     "output_type": "execute_result"
    }
   ],
   "source": [
    "a + b"
   ]
  },
  {
   "cell_type": "code",
   "execution_count": 16,
   "id": "ed993bb1",
   "metadata": {},
   "outputs": [],
   "source": [
    "c='foot'"
   ]
  },
  {
   "cell_type": "code",
   "execution_count": 17,
   "id": "6e9357d1",
   "metadata": {},
   "outputs": [],
   "source": [
    "d='ball'"
   ]
  },
  {
   "cell_type": "code",
   "execution_count": 18,
   "id": "3e0b8c2b",
   "metadata": {},
   "outputs": [
    {
     "data": {
      "text/plain": [
       "'football'"
      ]
     },
     "execution_count": 18,
     "metadata": {},
     "output_type": "execute_result"
    }
   ],
   "source": [
    "c+d"
   ]
  },
  {
   "cell_type": "code",
   "execution_count": 21,
   "id": "433a32b5",
   "metadata": {},
   "outputs": [],
   "source": [
    "e='Python is a lot '"
   ]
  },
  {
   "cell_type": "code",
   "execution_count": 22,
   "id": "0e792bf0",
   "metadata": {},
   "outputs": [],
   "source": [
    "f='of fun.'"
   ]
  },
  {
   "cell_type": "code",
   "execution_count": 23,
   "id": "39d2c9ba",
   "metadata": {},
   "outputs": [
    {
     "data": {
      "text/plain": [
       "'Python is a lot of fun.'"
      ]
     },
     "execution_count": 23,
     "metadata": {},
     "output_type": "execute_result"
    }
   ],
   "source": [
    "e+f"
   ]
  },
  {
   "cell_type": "code",
   "execution_count": 24,
   "id": "62364833",
   "metadata": {},
   "outputs": [],
   "source": [
    "g='I cant wait to learn more.'"
   ]
  },
  {
   "cell_type": "code",
   "execution_count": 25,
   "id": "62813ce8",
   "metadata": {},
   "outputs": [],
   "source": [
    "h=' Wondering what else is coming next.'"
   ]
  },
  {
   "cell_type": "code",
   "execution_count": 26,
   "id": "ffb7e0bc",
   "metadata": {},
   "outputs": [
    {
     "data": {
      "text/plain": [
       "'I cant wait to learn more. Wondering what else is coming next.'"
      ]
     },
     "execution_count": 26,
     "metadata": {},
     "output_type": "execute_result"
    }
   ],
   "source": [
    "g+h"
   ]
  },
  {
   "cell_type": "code",
   "execution_count": 27,
   "id": "2001ec21",
   "metadata": {},
   "outputs": [],
   "source": [
    "i='Python'"
   ]
  },
  {
   "cell_type": "code",
   "execution_count": 28,
   "id": "09312be6",
   "metadata": {},
   "outputs": [
    {
     "data": {
      "text/plain": [
       "'PythonPythonPythonPythonPythonPythonPythonPythonPythonPythonPythonPythonPythonPythonPythonPythonPythonPythonPythonPythonPythonPythonPythonPythonPythonPythonPythonPythonPythonPythonPythonPythonPythonPythonPythonPythonPythonPythonPythonPythonPythonPythonPythonPythonPythonPythonPythonPythonPythonPythonPythonPythonPythonPythonPythonPythonPythonPythonPythonPythonPythonPythonPythonPythonPythonPythonPythonPythonPythonPythonPythonPythonPythonPythonPythonPythonPythonPythonPythonPythonPythonPythonPythonPythonPythonPythonPythonPythonPythonPythonPythonPythonPythonPythonPythonPythonPythonPythonPythonPython'"
      ]
     },
     "execution_count": 28,
     "metadata": {},
     "output_type": "execute_result"
    }
   ],
   "source": [
    "i*100"
   ]
  },
  {
   "cell_type": "code",
   "execution_count": null,
   "id": "06360921",
   "metadata": {},
   "outputs": [],
   "source": []
  }
 ],
 "metadata": {
  "kernelspec": {
   "display_name": "Python 3",
   "language": "python",
   "name": "python3"
  },
  "language_info": {
   "codemirror_mode": {
    "name": "ipython",
    "version": 3
   },
   "file_extension": ".py",
   "mimetype": "text/x-python",
   "name": "python",
   "nbconvert_exporter": "python",
   "pygments_lexer": "ipython3",
   "version": "3.8.8"
  }
 },
 "nbformat": 4,
 "nbformat_minor": 5
}

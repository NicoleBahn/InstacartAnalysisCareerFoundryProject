{
 "cells": [
  {
   "cell_type": "markdown",
   "id": "de216382",
   "metadata": {},
   "source": [
    "# Content List\n",
    "01. Import Libraries\n",
    "02. Import Data\n",
    "03. Crosstabs & visualizations\n",
    "04. Stats & more aggregated data"
   ]
  },
  {
   "cell_type": "markdown",
   "id": "7e4c354f",
   "metadata": {},
   "source": [
    "## 01. Import Libraries"
   ]
  },
  {
   "cell_type": "code",
   "execution_count": 1,
   "id": "e24efff6",
   "metadata": {},
   "outputs": [],
   "source": [
    "# Import libraries\n",
    "import pandas as pd\n",
    "import numpy as np\n",
    "import os\n",
    "import matplotlib.pyplot as plt\n",
    "import seaborn as sns\n",
    "import scipy"
   ]
  },
  {
   "cell_type": "markdown",
   "id": "603eba7d",
   "metadata": {},
   "source": [
    "## 02. Import Data"
   ]
  },
  {
   "cell_type": "code",
   "execution_count": 2,
   "id": "ef873fe2",
   "metadata": {},
   "outputs": [],
   "source": [
    "#Import Data\n",
    "\n",
    "path = r'/Volumes/2020-2021/CareerFoundry/Data Analytics Program/Achievement 4 Immersion/Instacart Basket Analysis'"
   ]
  },
  {
   "cell_type": "code",
   "execution_count": 3,
   "id": "0d81cc6f",
   "metadata": {},
   "outputs": [],
   "source": [
    "df=pd.read_pickle(os.path.join(path,path,'02 Data','Prepared Data','ords_prods_customer_merged_4_9.pkl'))"
   ]
  },
  {
   "cell_type": "code",
   "execution_count": 4,
   "id": "c98beb39",
   "metadata": {},
   "outputs": [],
   "source": [
    "df_all=pd.read_pickle(os.path.join(path,path,'02 Data','Prepared Data','customer_all_4_10.pkl'))"
   ]
  },
  {
   "cell_type": "code",
   "execution_count": 5,
   "id": "3d674dc1",
   "metadata": {},
   "outputs": [
    {
     "data": {
      "text/plain": [
       "Index(['order_id', 'user_id', 'order_number', 'order_day_of_the_week',\n",
       "       'order_hour_of_day', 'days_since_prior_order', 'product_id',\n",
       "       'add_to_cart_order', 'reordered', 'Unnamed: 0', 'product_name',\n",
       "       'aisle_id', 'department_id', 'prices', 'price_range_loc', 'busiest_day',\n",
       "       'Busiest_days', 'busiest_period_of_day', 'max_order', 'loyalty_flag',\n",
       "       'spending', 'spending_flag', 'frequency', 'order_frequency_flag',\n",
       "       'Gender', 'STATE', 'Age', 'date_joined', 'number_of_dependents',\n",
       "       'marital_status', 'income', 'Country_Region', 'Activity_Flag',\n",
       "       'Parent_Status', 'Income Level', 'Pet Owner', 'Baby Household'],\n",
       "      dtype='object')"
      ]
     },
     "execution_count": 5,
     "metadata": {},
     "output_type": "execute_result"
    }
   ],
   "source": [
    "df_all.columns"
   ]
  },
  {
   "cell_type": "markdown",
   "id": "800f47d8",
   "metadata": {},
   "source": [
    "## 03. Crosstabs & Visualizations"
   ]
  },
  {
   "cell_type": "code",
   "execution_count": 7,
   "id": "b325191d",
   "metadata": {},
   "outputs": [
    {
     "data": {
      "text/html": [
       "<div>\n",
       "<style scoped>\n",
       "    .dataframe tbody tr th:only-of-type {\n",
       "        vertical-align: middle;\n",
       "    }\n",
       "\n",
       "    .dataframe tbody tr th {\n",
       "        vertical-align: top;\n",
       "    }\n",
       "\n",
       "    .dataframe thead th {\n",
       "        text-align: right;\n",
       "    }\n",
       "</style>\n",
       "<table border=\"1\" class=\"dataframe\">\n",
       "  <thead>\n",
       "    <tr style=\"text-align: right;\">\n",
       "      <th>loyalty_flag</th>\n",
       "      <th>Loyal customer</th>\n",
       "      <th>New customer</th>\n",
       "      <th>Regular customer</th>\n",
       "    </tr>\n",
       "    <tr>\n",
       "      <th>Country_Region</th>\n",
       "      <th></th>\n",
       "      <th></th>\n",
       "      <th></th>\n",
       "    </tr>\n",
       "  </thead>\n",
       "  <tbody>\n",
       "    <tr>\n",
       "      <th>Midwest</th>\n",
       "      <td>2206653</td>\n",
       "      <td>500009</td>\n",
       "      <td>3009984</td>\n",
       "    </tr>\n",
       "    <tr>\n",
       "      <th>Northeast</th>\n",
       "      <td>1712735</td>\n",
       "      <td>370610</td>\n",
       "      <td>2236206</td>\n",
       "    </tr>\n",
       "    <tr>\n",
       "      <th>South</th>\n",
       "      <td>3166022</td>\n",
       "      <td>703110</td>\n",
       "      <td>4267523</td>\n",
       "    </tr>\n",
       "    <tr>\n",
       "      <th>West</th>\n",
       "      <td>2479256</td>\n",
       "      <td>542951</td>\n",
       "      <td>3242405</td>\n",
       "    </tr>\n",
       "  </tbody>\n",
       "</table>\n",
       "</div>"
      ],
      "text/plain": [
       "loyalty_flag    Loyal customer  New customer  Regular customer\n",
       "Country_Region                                                \n",
       "Midwest                2206653        500009           3009984\n",
       "Northeast              1712735        370610           2236206\n",
       "South                  3166022        703110           4267523\n",
       "West                   2479256        542951           3242405"
      ]
     },
     "execution_count": 7,
     "metadata": {},
     "output_type": "execute_result"
    }
   ],
   "source": [
    "#Region & Loyalty\n",
    "crosstab_region_loyalty = pd.crosstab(df_all['Country_Region'], df_all['loyalty_flag'], dropna = False)\n",
    "crosstab_region_loyalty"
   ]
  },
  {
   "cell_type": "code",
   "execution_count": 8,
   "id": "cc5076cf",
   "metadata": {},
   "outputs": [],
   "source": [
    "crosstab_region_loyalty.to_clipboard()"
   ]
  },
  {
   "cell_type": "code",
   "execution_count": 9,
   "id": "1c3f9471",
   "metadata": {},
   "outputs": [
    {
     "data": {
      "text/plain": [
       "<matplotlib.legend.Legend at 0x7fca64986df0>"
      ]
     },
     "execution_count": 9,
     "metadata": {},
     "output_type": "execute_result"
    },
    {
     "data": {
      "image/png": "[encoded data removed]",
      "text/plain": [
       "<Figure size 432x288 with 1 Axes>"
      ]
     },
     "metadata": {
      "needs_background": "light"
     },
     "output_type": "display_data"
    }
   ],
   "source": [
    "region_loyalty_stacked_bar = crosstab_region_loyalty.plot.bar(stacked= True)\n",
    "plt.legend(title='Loyalty_Status_Region')"
   ]
  },
  {
   "cell_type": "code",
   "execution_count": 25,
   "id": "970dcc72",
   "metadata": {},
   "outputs": [],
   "source": [
    "#Export chart region & loyalty\n",
    "\n",
    "region_loyalty_stacked_bar.figure.savefig(os.path.join(path, '04 Analysis','Visualizations', 'region_loyalty_stacked_bar.png'))"
   ]
  },
  {
   "cell_type": "code",
   "execution_count": 14,
   "id": "bad8b72a",
   "metadata": {},
   "outputs": [
    {
     "data": {
      "text/html": [
       "<div>\n",
       "<style scoped>\n",
       "    .dataframe tbody tr th:only-of-type {\n",
       "        vertical-align: middle;\n",
       "    }\n",
       "\n",
       "    .dataframe tbody tr th {\n",
       "        vertical-align: top;\n",
       "    }\n",
       "\n",
       "    .dataframe thead th {\n",
       "        text-align: right;\n",
       "    }\n",
       "</style>\n",
       "<table border=\"1\" class=\"dataframe\">\n",
       "  <thead>\n",
       "    <tr style=\"text-align: right;\">\n",
       "      <th>Income Level</th>\n",
       "      <th>Higher Income</th>\n",
       "      <th>Lower Income</th>\n",
       "      <th>Middle Income</th>\n",
       "    </tr>\n",
       "    <tr>\n",
       "      <th>loyalty_flag</th>\n",
       "      <th></th>\n",
       "      <th></th>\n",
       "      <th></th>\n",
       "    </tr>\n",
       "  </thead>\n",
       "  <tbody>\n",
       "    <tr>\n",
       "      <th>Loyal customer</th>\n",
       "      <td>4423456</td>\n",
       "      <td>455488</td>\n",
       "      <td>4685722</td>\n",
       "    </tr>\n",
       "    <tr>\n",
       "      <th>New customer</th>\n",
       "      <td>949129</td>\n",
       "      <td>131095</td>\n",
       "      <td>1036456</td>\n",
       "    </tr>\n",
       "    <tr>\n",
       "      <th>Regular customer</th>\n",
       "      <td>5862740</td>\n",
       "      <td>654578</td>\n",
       "      <td>6238800</td>\n",
       "    </tr>\n",
       "  </tbody>\n",
       "</table>\n",
       "</div>"
      ],
      "text/plain": [
       "Income Level      Higher Income  Lower Income  Middle Income\n",
       "loyalty_flag                                                \n",
       "Loyal customer          4423456        455488        4685722\n",
       "New customer             949129        131095        1036456\n",
       "Regular customer        5862740        654578        6238800"
      ]
     },
     "execution_count": 14,
     "metadata": {},
     "output_type": "execute_result"
    }
   ],
   "source": [
    "#Income & Loyalty\n",
    "crosstab_income_loyalty = pd.crosstab(df_all['loyalty_flag'], df_all['Income Level'], dropna = False)\n",
    "crosstab_income_loyalty"
   ]
  },
  {
   "cell_type": "code",
   "execution_count": 15,
   "id": "7945263e",
   "metadata": {},
   "outputs": [],
   "source": [
    "crosstab_income_loyalty.to_clipboard()"
   ]
  },
  {
   "cell_type": "code",
   "execution_count": 16,
   "id": "8282c587",
   "metadata": {},
   "outputs": [
    {
     "data": {
      "text/plain": [
       "<matplotlib.legend.Legend at 0x7fca5ee9d160>"
      ]
     },
     "execution_count": 16,
     "metadata": {},
     "output_type": "execute_result"
    },
    {
     "data": {
      "image/png": "[encoded data removed]",
      "text/plain": [
       "<Figure size 432x288 with 1 Axes>"
      ]
     },
     "metadata": {
      "needs_background": "light"
     },
     "output_type": "display_data"
    }
   ],
   "source": [
    "income_loyalty_stacked_bar = crosstab_income_loyalty.plot.bar(stacked= True)\n",
    "plt.legend(title='Loyalty_Status_Income')"
   ]
  },
  {
   "cell_type": "code",
   "execution_count": 24,
   "id": "de87cb4e",
   "metadata": {},
   "outputs": [],
   "source": [
    "#Export chart Income & loyalty\n",
    "\n",
    "income_loyalty_stacked_bar.figure.savefig(os.path.join(path, '04 Analysis','Visualizations', 'income_loyalty_stacked_bar.png'))"
   ]
  },
  {
   "cell_type": "code",
   "execution_count": 17,
   "id": "9bed8bf6",
   "metadata": {},
   "outputs": [
    {
     "data": {
      "text/html": [
       "<div>\n",
       "<style scoped>\n",
       "    .dataframe tbody tr th:only-of-type {\n",
       "        vertical-align: middle;\n",
       "    }\n",
       "\n",
       "    .dataframe tbody tr th {\n",
       "        vertical-align: top;\n",
       "    }\n",
       "\n",
       "    .dataframe thead th {\n",
       "        text-align: right;\n",
       "    }\n",
       "</style>\n",
       "<table border=\"1\" class=\"dataframe\">\n",
       "  <thead>\n",
       "    <tr style=\"text-align: right;\">\n",
       "      <th>marital_status</th>\n",
       "      <th>divorced/widowed</th>\n",
       "      <th>living with parents and siblings</th>\n",
       "      <th>married</th>\n",
       "      <th>single</th>\n",
       "    </tr>\n",
       "    <tr>\n",
       "      <th>loyalty_flag</th>\n",
       "      <th></th>\n",
       "      <th></th>\n",
       "      <th></th>\n",
       "      <th></th>\n",
       "    </tr>\n",
       "  </thead>\n",
       "  <tbody>\n",
       "    <tr>\n",
       "      <th>Loyal customer</th>\n",
       "      <td>820725</td>\n",
       "      <td>458024</td>\n",
       "      <td>6698090</td>\n",
       "      <td>1587827</td>\n",
       "    </tr>\n",
       "    <tr>\n",
       "      <th>New customer</th>\n",
       "      <td>178091</td>\n",
       "      <td>97787</td>\n",
       "      <td>1489593</td>\n",
       "      <td>351209</td>\n",
       "    </tr>\n",
       "    <tr>\n",
       "      <th>Regular customer</th>\n",
       "      <td>1092370</td>\n",
       "      <td>616812</td>\n",
       "      <td>8966250</td>\n",
       "      <td>2080686</td>\n",
       "    </tr>\n",
       "  </tbody>\n",
       "</table>\n",
       "</div>"
      ],
      "text/plain": [
       "marital_status    divorced/widowed  living with parents and siblings  married  \\\n",
       "loyalty_flag                                                                    \n",
       "Loyal customer              820725                            458024  6698090   \n",
       "New customer                178091                             97787  1489593   \n",
       "Regular customer           1092370                            616812  8966250   \n",
       "\n",
       "marital_status     single  \n",
       "loyalty_flag               \n",
       "Loyal customer    1587827  \n",
       "New customer       351209  \n",
       "Regular customer  2080686  "
      ]
     },
     "execution_count": 17,
     "metadata": {},
     "output_type": "execute_result"
    }
   ],
   "source": [
    "#Marital & Loyalty\n",
    "crosstab_marital_loyalty = pd.crosstab(df_all['loyalty_flag'], df_all['marital_status'], dropna = False)\n",
    "crosstab_marital_loyalty"
   ]
  },
  {
   "cell_type": "code",
   "execution_count": 18,
   "id": "b8051d51",
   "metadata": {},
   "outputs": [],
   "source": [
    "crosstab_marital_loyalty.to_clipboard()"
   ]
  },
  {
   "cell_type": "code",
   "execution_count": 19,
   "id": "b167a055",
   "metadata": {},
   "outputs": [
    {
     "data": {
      "text/plain": [
       "<matplotlib.legend.Legend at 0x7fca41c21e20>"
      ]
     },
     "execution_count": 19,
     "metadata": {},
     "output_type": "execute_result"
    },
    {
     "data": {
      "image/png": "[encoded data removed]",
      "text/plain": [
       "<Figure size 432x288 with 1 Axes>"
      ]
     },
     "metadata": {
      "needs_background": "light"
     },
     "output_type": "display_data"
    }
   ],
   "source": [
    "marital_loyalty_stacked_bar = crosstab_marital_loyalty.plot.bar(stacked= True)\n",
    "plt.legend(title='Loyalty_Status_Martial')"
   ]
  },
  {
   "cell_type": "code",
   "execution_count": 26,
   "id": "f60fa252",
   "metadata": {},
   "outputs": [],
   "source": [
    "#Export chart Martial status & loyalty\n",
    "\n",
    "marital_loyalty_stacked_bar.figure.savefig(os.path.join(path, '04 Analysis','Visualizations', 'marital_loyalty_stacked_bar.png'))"
   ]
  },
  {
   "cell_type": "code",
   "execution_count": 21,
   "id": "b9dffe01",
   "metadata": {},
   "outputs": [
    {
     "data": {
      "text/html": [
       "<div>\n",
       "<style scoped>\n",
       "    .dataframe tbody tr th:only-of-type {\n",
       "        vertical-align: middle;\n",
       "    }\n",
       "\n",
       "    .dataframe tbody tr th {\n",
       "        vertical-align: top;\n",
       "    }\n",
       "\n",
       "    .dataframe thead th {\n",
       "        text-align: right;\n",
       "    }\n",
       "</style>\n",
       "<table border=\"1\" class=\"dataframe\">\n",
       "  <thead>\n",
       "    <tr style=\"text-align: right;\">\n",
       "      <th>Parent_Status</th>\n",
       "      <th>Middle Age Parent</th>\n",
       "      <th>No Dependents</th>\n",
       "      <th>Older Parent</th>\n",
       "      <th>Young Parent</th>\n",
       "    </tr>\n",
       "    <tr>\n",
       "      <th>loyalty_flag</th>\n",
       "      <th></th>\n",
       "      <th></th>\n",
       "      <th></th>\n",
       "      <th></th>\n",
       "    </tr>\n",
       "  </thead>\n",
       "  <tbody>\n",
       "    <tr>\n",
       "      <th>Loyal customer</th>\n",
       "      <td>1707800</td>\n",
       "      <td>2408552</td>\n",
       "      <td>3548485</td>\n",
       "      <td>1899829</td>\n",
       "    </tr>\n",
       "    <tr>\n",
       "      <th>New customer</th>\n",
       "      <td>366420</td>\n",
       "      <td>529300</td>\n",
       "      <td>802571</td>\n",
       "      <td>418389</td>\n",
       "    </tr>\n",
       "    <tr>\n",
       "      <th>Regular customer</th>\n",
       "      <td>2273273</td>\n",
       "      <td>3173056</td>\n",
       "      <td>4745143</td>\n",
       "      <td>2564646</td>\n",
       "    </tr>\n",
       "  </tbody>\n",
       "</table>\n",
       "</div>"
      ],
      "text/plain": [
       "Parent_Status     Middle Age Parent  No Dependents  Older Parent  Young Parent\n",
       "loyalty_flag                                                                  \n",
       "Loyal customer              1707800        2408552       3548485       1899829\n",
       "New customer                 366420         529300        802571        418389\n",
       "Regular customer            2273273        3173056       4745143       2564646"
      ]
     },
     "execution_count": 21,
     "metadata": {},
     "output_type": "execute_result"
    }
   ],
   "source": [
    "#Parental & Loyalty\n",
    "crosstab_parental_loyalty = pd.crosstab(df_all['loyalty_flag'], df_all['Parent_Status'], dropna = False)\n",
    "crosstab_parental_loyalty"
   ]
  },
  {
   "cell_type": "code",
   "execution_count": 22,
   "id": "0d2767e1",
   "metadata": {},
   "outputs": [],
   "source": [
    "crosstab_parental_loyalty.to_clipboard()"
   ]
  },
  {
   "cell_type": "code",
   "execution_count": 23,
   "id": "070b824d",
   "metadata": {},
   "outputs": [
    {
     "data": {
      "text/plain": [
       "<matplotlib.legend.Legend at 0x7fca598b0160>"
      ]
     },
     "execution_count": 23,
     "metadata": {},
     "output_type": "execute_result"
    },
    {
     "data": {
      "image/png": "[encoded data removed]",
      "text/plain": [
       "<Figure size 432x288 with 1 Axes>"
      ]
     },
     "metadata": {
      "needs_background": "light"
     },
     "output_type": "display_data"
    }
   ],
   "source": [
    "parental_loyalty_stacked_bar = crosstab_parental_loyalty.plot.bar(stacked= True)\n",
    "plt.legend(title='Loyalty_Status_parental')"
   ]
  },
  {
   "cell_type": "code",
   "execution_count": 27,
   "id": "f13347c3",
   "metadata": {},
   "outputs": [],
   "source": [
    "#Export chart Parent & loyalty\n",
    "\n",
    "parental_loyalty_stacked_bar.figure.savefig(os.path.join(path, '04 Analysis','Visualizations', 'parental_loyalty_stacked_bar.png'))"
   ]
  },
  {
   "cell_type": "code",
   "execution_count": 87,
   "id": "5db0c525",
   "metadata": {},
   "outputs": [
    {
     "data": {
      "text/html": [
       "<div>\n",
       "<style scoped>\n",
       "    .dataframe tbody tr th:only-of-type {\n",
       "        vertical-align: middle;\n",
       "    }\n",
       "\n",
       "    .dataframe tbody tr th {\n",
       "        vertical-align: top;\n",
       "    }\n",
       "\n",
       "    .dataframe thead th {\n",
       "        text-align: right;\n",
       "    }\n",
       "</style>\n",
       "<table border=\"1\" class=\"dataframe\">\n",
       "  <thead>\n",
       "    <tr style=\"text-align: right;\">\n",
       "      <th>marital_status</th>\n",
       "      <th>divorced/widowed</th>\n",
       "      <th>living with parents and siblings</th>\n",
       "      <th>married</th>\n",
       "      <th>single</th>\n",
       "    </tr>\n",
       "    <tr>\n",
       "      <th>department_id</th>\n",
       "      <th></th>\n",
       "      <th></th>\n",
       "      <th></th>\n",
       "      <th></th>\n",
       "    </tr>\n",
       "  </thead>\n",
       "  <tbody>\n",
       "    <tr>\n",
       "      <th>1.0</th>\n",
       "      <td>141623</td>\n",
       "      <td>79512</td>\n",
       "      <td>1142589</td>\n",
       "      <td>263890</td>\n",
       "    </tr>\n",
       "    <tr>\n",
       "      <th>2.0</th>\n",
       "      <td>2267</td>\n",
       "      <td>1460</td>\n",
       "      <td>18771</td>\n",
       "      <td>4668</td>\n",
       "    </tr>\n",
       "    <tr>\n",
       "      <th>3.0</th>\n",
       "      <td>75587</td>\n",
       "      <td>42543</td>\n",
       "      <td>619188</td>\n",
       "      <td>146012</td>\n",
       "    </tr>\n",
       "    <tr>\n",
       "      <th>4.0</th>\n",
       "      <td>619577</td>\n",
       "      <td>343702</td>\n",
       "      <td>5070504</td>\n",
       "      <td>1193308</td>\n",
       "    </tr>\n",
       "    <tr>\n",
       "      <th>5.0</th>\n",
       "      <td>8936</td>\n",
       "      <td>6284</td>\n",
       "      <td>73729</td>\n",
       "      <td>19023</td>\n",
       "    </tr>\n",
       "    <tr>\n",
       "      <th>6.0</th>\n",
       "      <td>16965</td>\n",
       "      <td>9659</td>\n",
       "      <td>138203</td>\n",
       "      <td>33073</td>\n",
       "    </tr>\n",
       "    <tr>\n",
       "      <th>7.0</th>\n",
       "      <td>175452</td>\n",
       "      <td>94324</td>\n",
       "      <td>1430068</td>\n",
       "      <td>336603</td>\n",
       "    </tr>\n",
       "    <tr>\n",
       "      <th>8.0</th>\n",
       "      <td>6262</td>\n",
       "      <td>4190</td>\n",
       "      <td>49671</td>\n",
       "      <td>11988</td>\n",
       "    </tr>\n",
       "    <tr>\n",
       "      <th>9.0</th>\n",
       "      <td>54174</td>\n",
       "      <td>30606</td>\n",
       "      <td>445705</td>\n",
       "      <td>103240</td>\n",
       "    </tr>\n",
       "    <tr>\n",
       "      <th>10.0</th>\n",
       "      <td>2213</td>\n",
       "      <td>1347</td>\n",
       "      <td>19626</td>\n",
       "      <td>4372</td>\n",
       "    </tr>\n",
       "    <tr>\n",
       "      <th>11.0</th>\n",
       "      <td>28189</td>\n",
       "      <td>15627</td>\n",
       "      <td>230492</td>\n",
       "      <td>54172</td>\n",
       "    </tr>\n",
       "    <tr>\n",
       "      <th>12.0</th>\n",
       "      <td>44554</td>\n",
       "      <td>25251</td>\n",
       "      <td>370433</td>\n",
       "      <td>83652</td>\n",
       "    </tr>\n",
       "    <tr>\n",
       "      <th>13.0</th>\n",
       "      <td>118637</td>\n",
       "      <td>67169</td>\n",
       "      <td>972888</td>\n",
       "      <td>226681</td>\n",
       "    </tr>\n",
       "    <tr>\n",
       "      <th>14.0</th>\n",
       "      <td>44414</td>\n",
       "      <td>26224</td>\n",
       "      <td>368561</td>\n",
       "      <td>85746</td>\n",
       "    </tr>\n",
       "    <tr>\n",
       "      <th>15.0</th>\n",
       "      <td>65423</td>\n",
       "      <td>37784</td>\n",
       "      <td>554557</td>\n",
       "      <td>130026</td>\n",
       "    </tr>\n",
       "    <tr>\n",
       "      <th>16.0</th>\n",
       "      <td>352593</td>\n",
       "      <td>199894</td>\n",
       "      <td>2890356</td>\n",
       "      <td>677645</td>\n",
       "    </tr>\n",
       "    <tr>\n",
       "      <th>17.0</th>\n",
       "      <td>45168</td>\n",
       "      <td>25796</td>\n",
       "      <td>381394</td>\n",
       "      <td>86991</td>\n",
       "    </tr>\n",
       "    <tr>\n",
       "      <th>18.0</th>\n",
       "      <td>27775</td>\n",
       "      <td>15595</td>\n",
       "      <td>236039</td>\n",
       "      <td>56538</td>\n",
       "    </tr>\n",
       "    <tr>\n",
       "      <th>19.0</th>\n",
       "      <td>186821</td>\n",
       "      <td>103918</td>\n",
       "      <td>1537764</td>\n",
       "      <td>358618</td>\n",
       "    </tr>\n",
       "    <tr>\n",
       "      <th>20.0</th>\n",
       "      <td>68073</td>\n",
       "      <td>37543</td>\n",
       "      <td>547474</td>\n",
       "      <td>129921</td>\n",
       "    </tr>\n",
       "    <tr>\n",
       "      <th>21.0</th>\n",
       "      <td>4509</td>\n",
       "      <td>2971</td>\n",
       "      <td>40464</td>\n",
       "      <td>9623</td>\n",
       "    </tr>\n",
       "  </tbody>\n",
       "</table>\n",
       "</div>"
      ],
      "text/plain": [
       "marital_status  divorced/widowed  living with parents and siblings  married  \\\n",
       "department_id                                                                 \n",
       "1.0                       141623                             79512  1142589   \n",
       "2.0                         2267                              1460    18771   \n",
       "3.0                        75587                             42543   619188   \n",
       "4.0                       619577                            343702  5070504   \n",
       "5.0                         8936                              6284    73729   \n",
       "6.0                        16965                              9659   138203   \n",
       "7.0                       175452                             94324  1430068   \n",
       "8.0                         6262                              4190    49671   \n",
       "9.0                        54174                             30606   445705   \n",
       "10.0                        2213                              1347    19626   \n",
       "11.0                       28189                             15627   230492   \n",
       "12.0                       44554                             25251   370433   \n",
       "13.0                      118637                             67169   972888   \n",
       "14.0                       44414                             26224   368561   \n",
       "15.0                       65423                             37784   554557   \n",
       "16.0                      352593                            199894  2890356   \n",
       "17.0                       45168                             25796   381394   \n",
       "18.0                       27775                             15595   236039   \n",
       "19.0                      186821                            103918  1537764   \n",
       "20.0                       68073                             37543   547474   \n",
       "21.0                        4509                              2971    40464   \n",
       "\n",
       "marital_status   single  \n",
       "department_id            \n",
       "1.0              263890  \n",
       "2.0                4668  \n",
       "3.0              146012  \n",
       "4.0             1193308  \n",
       "5.0               19023  \n",
       "6.0               33073  \n",
       "7.0              336603  \n",
       "8.0               11988  \n",
       "9.0              103240  \n",
       "10.0               4372  \n",
       "11.0              54172  \n",
       "12.0              83652  \n",
       "13.0             226681  \n",
       "14.0              85746  \n",
       "15.0             130026  \n",
       "16.0             677645  \n",
       "17.0              86991  \n",
       "18.0              56538  \n",
       "19.0             358618  \n",
       "20.0             129921  \n",
       "21.0               9623  "
      ]
     },
     "execution_count": 87,
     "metadata": {},
     "output_type": "execute_result"
    }
   ],
   "source": [
    "#Martial Status by Department\n",
    "\n",
    "crosstab_marital_department = pd.crosstab(df_all['department_id'],df_all['marital_status'], dropna=False )\n",
    "crosstab_marital_department "
   ]
  },
  {
   "cell_type": "code",
   "execution_count": 88,
   "id": "4f313429",
   "metadata": {},
   "outputs": [],
   "source": [
    "crosstab_marital_department.to_clipboard()"
   ]
  },
  {
   "cell_type": "code",
   "execution_count": 89,
   "id": "df7ef6d3",
   "metadata": {},
   "outputs": [
    {
     "data": {
      "text/plain": [
       "<matplotlib.legend.Legend at 0x7fca4cae2bb0>"
      ]
     },
     "execution_count": 89,
     "metadata": {},
     "output_type": "execute_result"
    },
    {
     "data": {
      "image/png": "[encoded data removed]",
      "text/plain": [
       "<Figure size 432x288 with 1 Axes>"
      ]
     },
     "metadata": {
      "needs_background": "light"
     },
     "output_type": "display_data"
    }
   ],
   "source": [
    "#Marital Status & Department Stacked Bar\n",
    "\n",
    "marital_department_stacked_bar = crosstab_marital_department.plot.bar(stacked= True)\n",
    "plt.legend(title='Martial Status')"
   ]
  },
  {
   "cell_type": "code",
   "execution_count": 123,
   "id": "1da46197",
   "metadata": {},
   "outputs": [],
   "source": [
    "#Export chart martial status & department\n",
    "\n",
    "marital_department_stacked_bar.figure.savefig(os.path.join(path, '04 Analysis','Visualizations', 'marital_department_stacked_bar.png'))"
   ]
  },
  {
   "cell_type": "code",
   "execution_count": 121,
   "id": "3e2fecab",
   "metadata": {},
   "outputs": [
    {
     "data": {
      "text/html": [
       "<div>\n",
       "<style scoped>\n",
       "    .dataframe tbody tr th:only-of-type {\n",
       "        vertical-align: middle;\n",
       "    }\n",
       "\n",
       "    .dataframe tbody tr th {\n",
       "        vertical-align: top;\n",
       "    }\n",
       "\n",
       "    .dataframe thead th {\n",
       "        text-align: right;\n",
       "    }\n",
       "</style>\n",
       "<table border=\"1\" class=\"dataframe\">\n",
       "  <thead>\n",
       "    <tr style=\"text-align: right;\">\n",
       "      <th>Parent_Status</th>\n",
       "      <th>Middle Age Parent</th>\n",
       "      <th>No Dependents</th>\n",
       "      <th>Older Parent</th>\n",
       "      <th>Young Parent</th>\n",
       "    </tr>\n",
       "    <tr>\n",
       "      <th>department_id</th>\n",
       "      <th></th>\n",
       "      <th></th>\n",
       "      <th></th>\n",
       "      <th></th>\n",
       "    </tr>\n",
       "  </thead>\n",
       "  <tbody>\n",
       "    <tr>\n",
       "      <th>1.0</th>\n",
       "      <td>288988</td>\n",
       "      <td>405513</td>\n",
       "      <td>608487</td>\n",
       "      <td>324626</td>\n",
       "    </tr>\n",
       "    <tr>\n",
       "      <th>2.0</th>\n",
       "      <td>4530</td>\n",
       "      <td>6935</td>\n",
       "      <td>10062</td>\n",
       "      <td>5639</td>\n",
       "    </tr>\n",
       "    <tr>\n",
       "      <th>3.0</th>\n",
       "      <td>156548</td>\n",
       "      <td>221599</td>\n",
       "      <td>329085</td>\n",
       "      <td>176098</td>\n",
       "    </tr>\n",
       "    <tr>\n",
       "      <th>4.0</th>\n",
       "      <td>1286585</td>\n",
       "      <td>1812885</td>\n",
       "      <td>2688302</td>\n",
       "      <td>1439319</td>\n",
       "    </tr>\n",
       "    <tr>\n",
       "      <th>5.0</th>\n",
       "      <td>18558</td>\n",
       "      <td>27959</td>\n",
       "      <td>38494</td>\n",
       "      <td>22961</td>\n",
       "    </tr>\n",
       "    <tr>\n",
       "      <th>6.0</th>\n",
       "      <td>35463</td>\n",
       "      <td>50038</td>\n",
       "      <td>72643</td>\n",
       "      <td>39756</td>\n",
       "    </tr>\n",
       "    <tr>\n",
       "      <th>7.0</th>\n",
       "      <td>356514</td>\n",
       "      <td>512055</td>\n",
       "      <td>766599</td>\n",
       "      <td>401279</td>\n",
       "    </tr>\n",
       "    <tr>\n",
       "      <th>8.0</th>\n",
       "      <td>12213</td>\n",
       "      <td>18250</td>\n",
       "      <td>27193</td>\n",
       "      <td>14455</td>\n",
       "    </tr>\n",
       "    <tr>\n",
       "      <th>9.0</th>\n",
       "      <td>112533</td>\n",
       "      <td>157414</td>\n",
       "      <td>236730</td>\n",
       "      <td>127048</td>\n",
       "    </tr>\n",
       "    <tr>\n",
       "      <th>10.0</th>\n",
       "      <td>4985</td>\n",
       "      <td>6585</td>\n",
       "      <td>10368</td>\n",
       "      <td>5620</td>\n",
       "    </tr>\n",
       "    <tr>\n",
       "      <th>11.0</th>\n",
       "      <td>58972</td>\n",
       "      <td>82361</td>\n",
       "      <td>122339</td>\n",
       "      <td>64808</td>\n",
       "    </tr>\n",
       "    <tr>\n",
       "      <th>12.0</th>\n",
       "      <td>92287</td>\n",
       "      <td>128206</td>\n",
       "      <td>197895</td>\n",
       "      <td>105502</td>\n",
       "    </tr>\n",
       "    <tr>\n",
       "      <th>13.0</th>\n",
       "      <td>246992</td>\n",
       "      <td>345318</td>\n",
       "      <td>516440</td>\n",
       "      <td>276625</td>\n",
       "    </tr>\n",
       "    <tr>\n",
       "      <th>14.0</th>\n",
       "      <td>93463</td>\n",
       "      <td>130160</td>\n",
       "      <td>194856</td>\n",
       "      <td>106466</td>\n",
       "    </tr>\n",
       "    <tr>\n",
       "      <th>15.0</th>\n",
       "      <td>139740</td>\n",
       "      <td>195449</td>\n",
       "      <td>294367</td>\n",
       "      <td>158234</td>\n",
       "    </tr>\n",
       "    <tr>\n",
       "      <th>16.0</th>\n",
       "      <td>739387</td>\n",
       "      <td>1030238</td>\n",
       "      <td>1520689</td>\n",
       "      <td>830174</td>\n",
       "    </tr>\n",
       "    <tr>\n",
       "      <th>17.0</th>\n",
       "      <td>98069</td>\n",
       "      <td>132159</td>\n",
       "      <td>202812</td>\n",
       "      <td>106309</td>\n",
       "    </tr>\n",
       "    <tr>\n",
       "      <th>18.0</th>\n",
       "      <td>62243</td>\n",
       "      <td>84313</td>\n",
       "      <td>124434</td>\n",
       "      <td>64957</td>\n",
       "    </tr>\n",
       "    <tr>\n",
       "      <th>19.0</th>\n",
       "      <td>385558</td>\n",
       "      <td>545439</td>\n",
       "      <td>815196</td>\n",
       "      <td>440928</td>\n",
       "    </tr>\n",
       "    <tr>\n",
       "      <th>20.0</th>\n",
       "      <td>139732</td>\n",
       "      <td>197994</td>\n",
       "      <td>289482</td>\n",
       "      <td>155803</td>\n",
       "    </tr>\n",
       "    <tr>\n",
       "      <th>21.0</th>\n",
       "      <td>10104</td>\n",
       "      <td>14132</td>\n",
       "      <td>21582</td>\n",
       "      <td>11749</td>\n",
       "    </tr>\n",
       "  </tbody>\n",
       "</table>\n",
       "</div>"
      ],
      "text/plain": [
       "Parent_Status  Middle Age Parent  No Dependents  Older Parent  Young Parent\n",
       "department_id                                                              \n",
       "1.0                       288988         405513        608487        324626\n",
       "2.0                         4530           6935         10062          5639\n",
       "3.0                       156548         221599        329085        176098\n",
       "4.0                      1286585        1812885       2688302       1439319\n",
       "5.0                        18558          27959         38494         22961\n",
       "6.0                        35463          50038         72643         39756\n",
       "7.0                       356514         512055        766599        401279\n",
       "8.0                        12213          18250         27193         14455\n",
       "9.0                       112533         157414        236730        127048\n",
       "10.0                        4985           6585         10368          5620\n",
       "11.0                       58972          82361        122339         64808\n",
       "12.0                       92287         128206        197895        105502\n",
       "13.0                      246992         345318        516440        276625\n",
       "14.0                       93463         130160        194856        106466\n",
       "15.0                      139740         195449        294367        158234\n",
       "16.0                      739387        1030238       1520689        830174\n",
       "17.0                       98069         132159        202812        106309\n",
       "18.0                       62243          84313        124434         64957\n",
       "19.0                      385558         545439        815196        440928\n",
       "20.0                      139732         197994        289482        155803\n",
       "21.0                       10104          14132         21582         11749"
      ]
     },
     "execution_count": 121,
     "metadata": {},
     "output_type": "execute_result"
    }
   ],
   "source": [
    "#Parental Status by Department\n",
    "\n",
    "crosstab_parental_department = pd.crosstab(df_all['department_id'],df_all['Parent_Status'], dropna=False )\n",
    "crosstab_parental_department "
   ]
  },
  {
   "cell_type": "code",
   "execution_count": 122,
   "id": "04e889ce",
   "metadata": {},
   "outputs": [
    {
     "data": {
      "text/plain": [
       "<matplotlib.legend.Legend at 0x7fca43ee0af0>"
      ]
     },
     "execution_count": 122,
     "metadata": {},
     "output_type": "execute_result"
    },
    {
     "data": {
      "image/png": "[encoded data removed]",
      "text/plain": [
       "<Figure size 432x288 with 1 Axes>"
      ]
     },
     "metadata": {
      "needs_background": "light"
     },
     "output_type": "display_data"
    }
   ],
   "source": [
    "#Parental Status & Department Stacked Bar\n",
    "\n",
    "parental_department_stacked_bar = crosstab_parental_department.plot.bar(stacked= True)\n",
    "plt.legend(title='Parental Status')"
   ]
  },
  {
   "cell_type": "code",
   "execution_count": 124,
   "id": "fc61f63d",
   "metadata": {},
   "outputs": [],
   "source": [
    "#Export chart parental status & department\n",
    "\n",
    "parental_department_stacked_bar.figure.savefig(os.path.join(path, '04 Analysis','Visualizations', 'parental_department_stacked_bar.png'))"
   ]
  },
  {
   "cell_type": "code",
   "execution_count": 29,
   "id": "d6f39b0e",
   "metadata": {},
   "outputs": [
    {
     "data": {
      "text/html": [
       "<div>\n",
       "<style scoped>\n",
       "    .dataframe tbody tr th:only-of-type {\n",
       "        vertical-align: middle;\n",
       "    }\n",
       "\n",
       "    .dataframe tbody tr th {\n",
       "        vertical-align: top;\n",
       "    }\n",
       "\n",
       "    .dataframe thead tr th {\n",
       "        text-align: left;\n",
       "    }\n",
       "\n",
       "    .dataframe thead tr:last-of-type th {\n",
       "        text-align: right;\n",
       "    }\n",
       "</style>\n",
       "<table border=\"1\" class=\"dataframe\">\n",
       "  <thead>\n",
       "    <tr>\n",
       "      <th></th>\n",
       "      <th>prices</th>\n",
       "    </tr>\n",
       "    <tr>\n",
       "      <th></th>\n",
       "      <th>median</th>\n",
       "    </tr>\n",
       "    <tr>\n",
       "      <th>loyalty_flag</th>\n",
       "      <th></th>\n",
       "    </tr>\n",
       "  </thead>\n",
       "  <tbody>\n",
       "    <tr>\n",
       "      <th>Loyal customer</th>\n",
       "      <td>7.4</td>\n",
       "    </tr>\n",
       "    <tr>\n",
       "      <th>New customer</th>\n",
       "      <td>7.4</td>\n",
       "    </tr>\n",
       "    <tr>\n",
       "      <th>Regular customer</th>\n",
       "      <td>7.4</td>\n",
       "    </tr>\n",
       "  </tbody>\n",
       "</table>\n",
       "</div>"
      ],
      "text/plain": [
       "                 prices\n",
       "                 median\n",
       "loyalty_flag           \n",
       "Loyal customer      7.4\n",
       "New customer        7.4\n",
       "Regular customer    7.4"
      ]
     },
     "execution_count": 29,
     "metadata": {},
     "output_type": "execute_result"
    }
   ],
   "source": [
    "#loyalty stats - Average Prices \n",
    "\n",
    "df_all.groupby(['loyalty_flag']).agg({'prices':['median']})"
   ]
  },
  {
   "cell_type": "code",
   "execution_count": 32,
   "id": "a990ce4c",
   "metadata": {},
   "outputs": [
    {
     "data": {
      "text/html": [
       "<div>\n",
       "<style scoped>\n",
       "    .dataframe tbody tr th:only-of-type {\n",
       "        vertical-align: middle;\n",
       "    }\n",
       "\n",
       "    .dataframe tbody tr th {\n",
       "        vertical-align: top;\n",
       "    }\n",
       "\n",
       "    .dataframe thead th {\n",
       "        text-align: right;\n",
       "    }\n",
       "</style>\n",
       "<table border=\"1\" class=\"dataframe\">\n",
       "  <thead>\n",
       "    <tr style=\"text-align: right;\">\n",
       "      <th>prices</th>\n",
       "      <th>1.0</th>\n",
       "      <th>1.1</th>\n",
       "      <th>1.2</th>\n",
       "      <th>1.3</th>\n",
       "      <th>1.4</th>\n",
       "      <th>1.5</th>\n",
       "      <th>1.6</th>\n",
       "      <th>1.7</th>\n",
       "      <th>1.8</th>\n",
       "      <th>1.9</th>\n",
       "      <th>...</th>\n",
       "      <th>24.3</th>\n",
       "      <th>24.4</th>\n",
       "      <th>24.5</th>\n",
       "      <th>24.6</th>\n",
       "      <th>24.7</th>\n",
       "      <th>24.8</th>\n",
       "      <th>24.9</th>\n",
       "      <th>25.0</th>\n",
       "      <th>14900.0</th>\n",
       "      <th>99999.0</th>\n",
       "    </tr>\n",
       "    <tr>\n",
       "      <th>Income Level</th>\n",
       "      <th></th>\n",
       "      <th></th>\n",
       "      <th></th>\n",
       "      <th></th>\n",
       "      <th></th>\n",
       "      <th></th>\n",
       "      <th></th>\n",
       "      <th></th>\n",
       "      <th></th>\n",
       "      <th></th>\n",
       "      <th></th>\n",
       "      <th></th>\n",
       "      <th></th>\n",
       "      <th></th>\n",
       "      <th></th>\n",
       "      <th></th>\n",
       "      <th></th>\n",
       "      <th></th>\n",
       "      <th></th>\n",
       "      <th></th>\n",
       "      <th></th>\n",
       "    </tr>\n",
       "  </thead>\n",
       "  <tbody>\n",
       "    <tr>\n",
       "      <th>Higher Income</th>\n",
       "      <td>39533</td>\n",
       "      <td>79691</td>\n",
       "      <td>83949</td>\n",
       "      <td>140754</td>\n",
       "      <td>131827</td>\n",
       "      <td>52022</td>\n",
       "      <td>97349</td>\n",
       "      <td>70522</td>\n",
       "      <td>101714</td>\n",
       "      <td>49751</td>\n",
       "      <td>...</td>\n",
       "      <td>1171</td>\n",
       "      <td>187</td>\n",
       "      <td>813</td>\n",
       "      <td>679</td>\n",
       "      <td>2862</td>\n",
       "      <td>155</td>\n",
       "      <td>2180</td>\n",
       "      <td>5439</td>\n",
       "      <td>3035</td>\n",
       "      <td>474</td>\n",
       "    </tr>\n",
       "    <tr>\n",
       "      <th>Lower Income</th>\n",
       "      <td>4508</td>\n",
       "      <td>13508</td>\n",
       "      <td>10955</td>\n",
       "      <td>23408</td>\n",
       "      <td>20024</td>\n",
       "      <td>7606</td>\n",
       "      <td>16951</td>\n",
       "      <td>11499</td>\n",
       "      <td>20769</td>\n",
       "      <td>10031</td>\n",
       "      <td>...</td>\n",
       "      <td>31</td>\n",
       "      <td>1</td>\n",
       "      <td>28</td>\n",
       "      <td>10</td>\n",
       "      <td>71</td>\n",
       "      <td>6</td>\n",
       "      <td>27</td>\n",
       "      <td>85</td>\n",
       "      <td>0</td>\n",
       "      <td>0</td>\n",
       "    </tr>\n",
       "    <tr>\n",
       "      <th>Middle Income</th>\n",
       "      <td>41982</td>\n",
       "      <td>91195</td>\n",
       "      <td>90912</td>\n",
       "      <td>159240</td>\n",
       "      <td>148654</td>\n",
       "      <td>55689</td>\n",
       "      <td>109521</td>\n",
       "      <td>79411</td>\n",
       "      <td>120807</td>\n",
       "      <td>56017</td>\n",
       "      <td>...</td>\n",
       "      <td>937</td>\n",
       "      <td>197</td>\n",
       "      <td>701</td>\n",
       "      <td>690</td>\n",
       "      <td>2728</td>\n",
       "      <td>122</td>\n",
       "      <td>1957</td>\n",
       "      <td>4610</td>\n",
       "      <td>167</td>\n",
       "      <td>35</td>\n",
       "    </tr>\n",
       "  </tbody>\n",
       "</table>\n",
       "<p>3 rows × 242 columns</p>\n",
       "</div>"
      ],
      "text/plain": [
       "prices         1.0      1.1      1.2      1.3      1.4      1.5      1.6      \\\n",
       "Income Level                                                                   \n",
       "Higher Income    39533    79691    83949   140754   131827    52022    97349   \n",
       "Lower Income      4508    13508    10955    23408    20024     7606    16951   \n",
       "Middle Income    41982    91195    90912   159240   148654    55689   109521   \n",
       "\n",
       "prices         1.7      1.8      1.9      ...  24.3     24.4     24.5     \\\n",
       "Income Level                              ...                              \n",
       "Higher Income    70522   101714    49751  ...     1171      187      813   \n",
       "Lower Income     11499    20769    10031  ...       31        1       28   \n",
       "Middle Income    79411   120807    56017  ...      937      197      701   \n",
       "\n",
       "prices         24.6     24.7     24.8     24.9     25.0     14900.0  99999.0  \n",
       "Income Level                                                                  \n",
       "Higher Income      679     2862      155     2180     5439     3035      474  \n",
       "Lower Income        10       71        6       27       85        0        0  \n",
       "Middle Income      690     2728      122     1957     4610      167       35  \n",
       "\n",
       "[3 rows x 242 columns]"
      ]
     },
     "execution_count": 32,
     "metadata": {},
     "output_type": "execute_result"
    }
   ],
   "source": [
    "crosstab_prices_income = pd.crosstab(df_all['Income Level'], df_all['prices'], dropna = False)\n",
    "crosstab_prices_income"
   ]
  },
  {
   "cell_type": "code",
   "execution_count": 33,
   "id": "708bd387",
   "metadata": {},
   "outputs": [],
   "source": [
    "#Group by average prices \n",
    "df_prices = df_all.groupby('Income Level').agg({'prices':['median']})"
   ]
  },
  {
   "cell_type": "code",
   "execution_count": 34,
   "id": "77c0e957",
   "metadata": {},
   "outputs": [
    {
     "data": {
      "text/html": [
       "<div>\n",
       "<style scoped>\n",
       "    .dataframe tbody tr th:only-of-type {\n",
       "        vertical-align: middle;\n",
       "    }\n",
       "\n",
       "    .dataframe tbody tr th {\n",
       "        vertical-align: top;\n",
       "    }\n",
       "\n",
       "    .dataframe thead tr th {\n",
       "        text-align: left;\n",
       "    }\n",
       "\n",
       "    .dataframe thead tr:last-of-type th {\n",
       "        text-align: right;\n",
       "    }\n",
       "</style>\n",
       "<table border=\"1\" class=\"dataframe\">\n",
       "  <thead>\n",
       "    <tr>\n",
       "      <th></th>\n",
       "      <th>prices</th>\n",
       "    </tr>\n",
       "    <tr>\n",
       "      <th></th>\n",
       "      <th>median</th>\n",
       "    </tr>\n",
       "    <tr>\n",
       "      <th>Income Level</th>\n",
       "      <th></th>\n",
       "    </tr>\n",
       "  </thead>\n",
       "  <tbody>\n",
       "    <tr>\n",
       "      <th>Higher Income</th>\n",
       "      <td>7.6</td>\n",
       "    </tr>\n",
       "    <tr>\n",
       "      <th>Lower Income</th>\n",
       "      <td>5.8</td>\n",
       "    </tr>\n",
       "    <tr>\n",
       "      <th>Middle Income</th>\n",
       "      <td>7.4</td>\n",
       "    </tr>\n",
       "  </tbody>\n",
       "</table>\n",
       "</div>"
      ],
      "text/plain": [
       "              prices\n",
       "              median\n",
       "Income Level        \n",
       "Higher Income    7.6\n",
       "Lower Income     5.8\n",
       "Middle Income    7.4"
      ]
     },
     "execution_count": 34,
     "metadata": {},
     "output_type": "execute_result"
    }
   ],
   "source": [
    "df_prices"
   ]
  },
  {
   "cell_type": "code",
   "execution_count": 36,
   "id": "993dfcbe",
   "metadata": {},
   "outputs": [
    {
     "data": {
      "text/plain": [
       "<matplotlib.legend.Legend at 0x7fca42109f10>"
      ]
     },
     "execution_count": 36,
     "metadata": {},
     "output_type": "execute_result"
    },
    {
     "data": {
      "image/png": "[encoded data removed]",
      "text/plain": [
       "<Figure size 432x288 with 1 Axes>"
      ]
     },
     "metadata": {
      "needs_background": "light"
     },
     "output_type": "display_data"
    }
   ],
   "source": [
    "prices_income_stacked_bar = df_prices.plot.bar(stacked= True)\n",
    "plt.legend(title='Average_prices')"
   ]
  },
  {
   "cell_type": "code",
   "execution_count": 37,
   "id": "ec04c9de",
   "metadata": {},
   "outputs": [],
   "source": [
    "#Export chart income & average prices\n",
    "prices_income_stacked_bar.figure.savefig(os.path.join(path, '04 Analysis','Visualizations', 'prices_income_stacked_bar.png'))"
   ]
  },
  {
   "cell_type": "code",
   "execution_count": 114,
   "id": "c1677ea6",
   "metadata": {},
   "outputs": [
    {
     "data": {
      "text/html": [
       "<div>\n",
       "<style scoped>\n",
       "    .dataframe tbody tr th:only-of-type {\n",
       "        vertical-align: middle;\n",
       "    }\n",
       "\n",
       "    .dataframe tbody tr th {\n",
       "        vertical-align: top;\n",
       "    }\n",
       "\n",
       "    .dataframe thead th {\n",
       "        text-align: right;\n",
       "    }\n",
       "</style>\n",
       "<table border=\"1\" class=\"dataframe\">\n",
       "  <thead>\n",
       "    <tr style=\"text-align: right;\">\n",
       "      <th>Pet Owner</th>\n",
       "      <th>Not Pet Owner</th>\n",
       "      <th>Pet Owner</th>\n",
       "    </tr>\n",
       "    <tr>\n",
       "      <th>loyalty_flag</th>\n",
       "      <th></th>\n",
       "      <th></th>\n",
       "    </tr>\n",
       "  </thead>\n",
       "  <tbody>\n",
       "    <tr>\n",
       "      <th>Loyal customer</th>\n",
       "      <td>8370416</td>\n",
       "      <td>1194250</td>\n",
       "    </tr>\n",
       "    <tr>\n",
       "      <th>New customer</th>\n",
       "      <td>1997853</td>\n",
       "      <td>118827</td>\n",
       "    </tr>\n",
       "    <tr>\n",
       "      <th>Regular customer</th>\n",
       "      <td>11435242</td>\n",
       "      <td>1320876</td>\n",
       "    </tr>\n",
       "  </tbody>\n",
       "</table>\n",
       "</div>"
      ],
      "text/plain": [
       "Pet Owner         Not Pet Owner  Pet Owner\n",
       "loyalty_flag                              \n",
       "Loyal customer          8370416    1194250\n",
       "New customer            1997853     118827\n",
       "Regular customer       11435242    1320876"
      ]
     },
     "execution_count": 114,
     "metadata": {},
     "output_type": "execute_result"
    }
   ],
   "source": [
    "#Pet owners & loyalty\n",
    "crosstab_pet_loyalty = pd.crosstab(df_all['loyalty_flag'], df_all['Pet Owner'], dropna = False)\n",
    "crosstab_pet_loyalty"
   ]
  },
  {
   "cell_type": "code",
   "execution_count": 117,
   "id": "84c6c2a3",
   "metadata": {},
   "outputs": [
    {
     "data": {
      "text/plain": [
       "<matplotlib.legend.Legend at 0x7fca440b4820>"
      ]
     },
     "execution_count": 117,
     "metadata": {},
     "output_type": "execute_result"
    },
    {
     "data": {
      "image/png": "[encoded data removed]",
      "text/plain": [
       "<Figure size 432x288 with 1 Axes>"
      ]
     },
     "metadata": {
      "needs_background": "light"
     },
     "output_type": "display_data"
    }
   ],
   "source": [
    "#Pet Owner& loyalty Stacked Bar\n",
    "\n",
    "pet_loyalty_stacked_bar = crosstab_pet_loyalty.plot.bar(stacked= True)\n",
    "plt.legend(title='Pet Owner Loyalty')"
   ]
  },
  {
   "cell_type": "code",
   "execution_count": 118,
   "id": "709a4629",
   "metadata": {},
   "outputs": [],
   "source": [
    "#Export Pet Owner& loyalty Stacked Bar\n",
    "pet_loyalty_stacked_bar.figure.savefig(os.path.join(path, '04 Analysis','Visualizations', 'pet_loyalty_stacked_bar.png'))"
   ]
  },
  {
   "cell_type": "code",
   "execution_count": 115,
   "id": "9433af61",
   "metadata": {},
   "outputs": [
    {
     "data": {
      "text/html": [
       "<div>\n",
       "<style scoped>\n",
       "    .dataframe tbody tr th:only-of-type {\n",
       "        vertical-align: middle;\n",
       "    }\n",
       "\n",
       "    .dataframe tbody tr th {\n",
       "        vertical-align: top;\n",
       "    }\n",
       "\n",
       "    .dataframe thead th {\n",
       "        text-align: right;\n",
       "    }\n",
       "</style>\n",
       "<table border=\"1\" class=\"dataframe\">\n",
       "  <thead>\n",
       "    <tr style=\"text-align: right;\">\n",
       "      <th>Baby Household</th>\n",
       "      <th>Baby Household</th>\n",
       "      <th>Non-Baby Household</th>\n",
       "    </tr>\n",
       "    <tr>\n",
       "      <th>loyalty_flag</th>\n",
       "      <th></th>\n",
       "      <th></th>\n",
       "    </tr>\n",
       "  </thead>\n",
       "  <tbody>\n",
       "    <tr>\n",
       "      <th>Loyal customer</th>\n",
       "      <td>4098875</td>\n",
       "      <td>5465791</td>\n",
       "    </tr>\n",
       "    <tr>\n",
       "      <th>New customer</th>\n",
       "      <td>273268</td>\n",
       "      <td>1843412</td>\n",
       "    </tr>\n",
       "    <tr>\n",
       "      <th>Regular customer</th>\n",
       "      <td>3455746</td>\n",
       "      <td>9300372</td>\n",
       "    </tr>\n",
       "  </tbody>\n",
       "</table>\n",
       "</div>"
      ],
      "text/plain": [
       "Baby Household    Baby Household  Non-Baby Household\n",
       "loyalty_flag                                        \n",
       "Loyal customer           4098875             5465791\n",
       "New customer              273268             1843412\n",
       "Regular customer         3455746             9300372"
      ]
     },
     "execution_count": 115,
     "metadata": {},
     "output_type": "execute_result"
    }
   ],
   "source": [
    "#baby household & loyalty\n",
    "crosstab_baby_loyalty = pd.crosstab(df_all['loyalty_flag'], df_all['Baby Household'], dropna = False)\n",
    "crosstab_baby_loyalty"
   ]
  },
  {
   "cell_type": "code",
   "execution_count": 116,
   "id": "8b8b513e",
   "metadata": {},
   "outputs": [
    {
     "data": {
      "text/plain": [
       "<matplotlib.legend.Legend at 0x7fca43eefd00>"
      ]
     },
     "execution_count": 116,
     "metadata": {},
     "output_type": "execute_result"
    },
    {
     "data": {
      "image/png": "[encoded data removed]",
      "text/plain": [
       "<Figure size 432x288 with 1 Axes>"
      ]
     },
     "metadata": {
      "needs_background": "light"
     },
     "output_type": "display_data"
    }
   ],
   "source": [
    "#baby household & loyalty Stacked Bar\n",
    "\n",
    "baby_loyalty_stacked_bar = crosstab_baby_loyalty.plot.bar(stacked= True)\n",
    "plt.legend(title='Baby Household Loyalty')"
   ]
  },
  {
   "cell_type": "code",
   "execution_count": 119,
   "id": "86243447",
   "metadata": {},
   "outputs": [],
   "source": [
    "#Export Baby Household & loyalty Stacked Bar\n",
    "baby_loyalty_stacked_bar.figure.savefig(os.path.join(path, '04 Analysis','Visualizations', 'baby_loyalty_stacked_bar.png'))"
   ]
  },
  {
   "cell_type": "code",
   "execution_count": 38,
   "id": "a647d2f1",
   "metadata": {},
   "outputs": [
    {
     "data": {
      "text/html": [
       "<div>\n",
       "<style scoped>\n",
       "    .dataframe tbody tr th:only-of-type {\n",
       "        vertical-align: middle;\n",
       "    }\n",
       "\n",
       "    .dataframe tbody tr th {\n",
       "        vertical-align: top;\n",
       "    }\n",
       "\n",
       "    .dataframe thead th {\n",
       "        text-align: right;\n",
       "    }\n",
       "</style>\n",
       "<table border=\"1\" class=\"dataframe\">\n",
       "  <thead>\n",
       "    <tr style=\"text-align: right;\">\n",
       "      <th>Pet Owner</th>\n",
       "      <th>Not Pet Owner</th>\n",
       "      <th>Pet Owner</th>\n",
       "    </tr>\n",
       "    <tr>\n",
       "      <th>Country_Region</th>\n",
       "      <th></th>\n",
       "      <th></th>\n",
       "    </tr>\n",
       "  </thead>\n",
       "  <tbody>\n",
       "    <tr>\n",
       "      <th>Midwest</th>\n",
       "      <td>5078895</td>\n",
       "      <td>637751</td>\n",
       "    </tr>\n",
       "    <tr>\n",
       "      <th>Northeast</th>\n",
       "      <td>3863011</td>\n",
       "      <td>456540</td>\n",
       "    </tr>\n",
       "    <tr>\n",
       "      <th>South</th>\n",
       "      <td>7290997</td>\n",
       "      <td>845658</td>\n",
       "    </tr>\n",
       "    <tr>\n",
       "      <th>West</th>\n",
       "      <td>5570608</td>\n",
       "      <td>694004</td>\n",
       "    </tr>\n",
       "  </tbody>\n",
       "</table>\n",
       "</div>"
      ],
      "text/plain": [
       "Pet Owner       Not Pet Owner  Pet Owner\n",
       "Country_Region                          \n",
       "Midwest               5078895     637751\n",
       "Northeast             3863011     456540\n",
       "South                 7290997     845658\n",
       "West                  5570608     694004"
      ]
     },
     "execution_count": 38,
     "metadata": {},
     "output_type": "execute_result"
    }
   ],
   "source": [
    "#Pet owners & Region\n",
    "crosstab_pet_region = pd.crosstab(df_all['Country_Region'], df_all['Pet Owner'], dropna = False)\n",
    "crosstab_pet_region"
   ]
  },
  {
   "cell_type": "code",
   "execution_count": 39,
   "id": "843af7de",
   "metadata": {},
   "outputs": [],
   "source": [
    "crosstab_pet_region.to_clipboard()"
   ]
  },
  {
   "cell_type": "code",
   "execution_count": 40,
   "id": "5891a982",
   "metadata": {},
   "outputs": [
    {
     "data": {
      "text/plain": [
       "<matplotlib.legend.Legend at 0x7fca42595640>"
      ]
     },
     "execution_count": 40,
     "metadata": {},
     "output_type": "execute_result"
    },
    {
     "data": {
      "image/png": "[encoded data removed]",
      "text/plain": [
       "<Figure size 432x288 with 1 Axes>"
      ]
     },
     "metadata": {
      "needs_background": "light"
     },
     "output_type": "display_data"
    }
   ],
   "source": [
    "crosstab_pet_region_stacked_bar = crosstab_pet_region.plot.bar(stacked= True)\n",
    "plt.legend(title='Pet Owner')"
   ]
  },
  {
   "cell_type": "code",
   "execution_count": 41,
   "id": "028778e5",
   "metadata": {},
   "outputs": [],
   "source": [
    "#Export chart pet & region\n",
    "crosstab_pet_region_stacked_bar.figure.savefig(os.path.join(path, '04 Analysis','Visualizations', 'stacked_bar_pet_region.png'))"
   ]
  },
  {
   "cell_type": "code",
   "execution_count": 42,
   "id": "bcc5eb79",
   "metadata": {},
   "outputs": [
    {
     "data": {
      "text/html": [
       "<div>\n",
       "<style scoped>\n",
       "    .dataframe tbody tr th:only-of-type {\n",
       "        vertical-align: middle;\n",
       "    }\n",
       "\n",
       "    .dataframe tbody tr th {\n",
       "        vertical-align: top;\n",
       "    }\n",
       "\n",
       "    .dataframe thead th {\n",
       "        text-align: right;\n",
       "    }\n",
       "</style>\n",
       "<table border=\"1\" class=\"dataframe\">\n",
       "  <thead>\n",
       "    <tr style=\"text-align: right;\">\n",
       "      <th>Baby Household</th>\n",
       "      <th>Baby Household</th>\n",
       "      <th>Non-Baby Household</th>\n",
       "    </tr>\n",
       "    <tr>\n",
       "      <th>Country_Region</th>\n",
       "      <th></th>\n",
       "      <th></th>\n",
       "    </tr>\n",
       "  </thead>\n",
       "  <tbody>\n",
       "    <tr>\n",
       "      <th>Midwest</th>\n",
       "      <td>1835513</td>\n",
       "      <td>3881133</td>\n",
       "    </tr>\n",
       "    <tr>\n",
       "      <th>Northeast</th>\n",
       "      <td>1400859</td>\n",
       "      <td>2918692</td>\n",
       "    </tr>\n",
       "    <tr>\n",
       "      <th>South</th>\n",
       "      <td>2612327</td>\n",
       "      <td>5524328</td>\n",
       "    </tr>\n",
       "    <tr>\n",
       "      <th>West</th>\n",
       "      <td>1979190</td>\n",
       "      <td>4285422</td>\n",
       "    </tr>\n",
       "  </tbody>\n",
       "</table>\n",
       "</div>"
      ],
      "text/plain": [
       "Baby Household  Baby Household  Non-Baby Household\n",
       "Country_Region                                    \n",
       "Midwest                1835513             3881133\n",
       "Northeast              1400859             2918692\n",
       "South                  2612327             5524328\n",
       "West                   1979190             4285422"
      ]
     },
     "execution_count": 42,
     "metadata": {},
     "output_type": "execute_result"
    }
   ],
   "source": [
    "#Baby & Region\n",
    "crosstab_baby_region = pd.crosstab(df_all['Country_Region'], df_all['Baby Household'], dropna = False)\n",
    "crosstab_baby_region"
   ]
  },
  {
   "cell_type": "code",
   "execution_count": 43,
   "id": "863713de",
   "metadata": {},
   "outputs": [],
   "source": [
    "crosstab_baby_region.to_clipboard()"
   ]
  },
  {
   "cell_type": "code",
   "execution_count": 44,
   "id": "23d00f68",
   "metadata": {},
   "outputs": [
    {
     "data": {
      "text/plain": [
       "<matplotlib.legend.Legend at 0x7fca4269c910>"
      ]
     },
     "execution_count": 44,
     "metadata": {},
     "output_type": "execute_result"
    },
    {
     "data": {
      "image/png": "[encoded data removed]",
      "text/plain": [
       "<Figure size 432x288 with 1 Axes>"
      ]
     },
     "metadata": {
      "needs_background": "light"
     },
     "output_type": "display_data"
    }
   ],
   "source": [
    "baby_region_stacked_bar = crosstab_baby_region.plot.bar(stacked= True)\n",
    "plt.legend(title='Baby Household')"
   ]
  },
  {
   "cell_type": "code",
   "execution_count": 45,
   "id": "df9a98dc",
   "metadata": {},
   "outputs": [],
   "source": [
    "#Export chart baby & region\n",
    "\n",
    "baby_region_stacked_bar.figure.savefig(os.path.join(path, '04 Analysis','Visualizations', 'stacked_bar_baby_region.png'))"
   ]
  },
  {
   "cell_type": "code",
   "execution_count": 47,
   "id": "c4c735da",
   "metadata": {},
   "outputs": [
    {
     "data": {
      "text/html": [
       "<div>\n",
       "<style scoped>\n",
       "    .dataframe tbody tr th:only-of-type {\n",
       "        vertical-align: middle;\n",
       "    }\n",
       "\n",
       "    .dataframe tbody tr th {\n",
       "        vertical-align: top;\n",
       "    }\n",
       "\n",
       "    .dataframe thead th {\n",
       "        text-align: right;\n",
       "    }\n",
       "</style>\n",
       "<table border=\"1\" class=\"dataframe\">\n",
       "  <thead>\n",
       "    <tr style=\"text-align: right;\">\n",
       "      <th>marital_status</th>\n",
       "      <th>divorced/widowed</th>\n",
       "      <th>living with parents and siblings</th>\n",
       "      <th>married</th>\n",
       "      <th>single</th>\n",
       "    </tr>\n",
       "    <tr>\n",
       "      <th>Country_Region</th>\n",
       "      <th></th>\n",
       "      <th></th>\n",
       "      <th></th>\n",
       "      <th></th>\n",
       "    </tr>\n",
       "  </thead>\n",
       "  <tbody>\n",
       "    <tr>\n",
       "      <th>Midwest</th>\n",
       "      <td>485572</td>\n",
       "      <td>276192</td>\n",
       "      <td>4002181</td>\n",
       "      <td>952701</td>\n",
       "    </tr>\n",
       "    <tr>\n",
       "      <th>Northeast</th>\n",
       "      <td>380733</td>\n",
       "      <td>205232</td>\n",
       "      <td>3048120</td>\n",
       "      <td>685466</td>\n",
       "    </tr>\n",
       "    <tr>\n",
       "      <th>South</th>\n",
       "      <td>694013</td>\n",
       "      <td>399598</td>\n",
       "      <td>5696704</td>\n",
       "      <td>1346340</td>\n",
       "    </tr>\n",
       "    <tr>\n",
       "      <th>West</th>\n",
       "      <td>530868</td>\n",
       "      <td>291601</td>\n",
       "      <td>4406928</td>\n",
       "      <td>1035215</td>\n",
       "    </tr>\n",
       "  </tbody>\n",
       "</table>\n",
       "</div>"
      ],
      "text/plain": [
       "marital_status  divorced/widowed  living with parents and siblings  married  \\\n",
       "Country_Region                                                                \n",
       "Midwest                   485572                            276192  4002181   \n",
       "Northeast                 380733                            205232  3048120   \n",
       "South                     694013                            399598  5696704   \n",
       "West                      530868                            291601  4406928   \n",
       "\n",
       "marital_status   single  \n",
       "Country_Region           \n",
       "Midwest          952701  \n",
       "Northeast        685466  \n",
       "South           1346340  \n",
       "West            1035215  "
      ]
     },
     "execution_count": 47,
     "metadata": {},
     "output_type": "execute_result"
    }
   ],
   "source": [
    "#Marital & Region\n",
    "crosstab_marital_region = pd.crosstab(df_all['Country_Region'], df_all['marital_status'], dropna = False)\n",
    "crosstab_marital_region"
   ]
  },
  {
   "cell_type": "code",
   "execution_count": 48,
   "id": "3aaea0c3",
   "metadata": {},
   "outputs": [],
   "source": [
    "crosstab_marital_region.to_clipboard()"
   ]
  },
  {
   "cell_type": "code",
   "execution_count": 50,
   "id": "82692d84",
   "metadata": {},
   "outputs": [
    {
     "data": {
      "text/plain": [
       "<matplotlib.legend.Legend at 0x7fca4cbcf7c0>"
      ]
     },
     "execution_count": 50,
     "metadata": {},
     "output_type": "execute_result"
    },
    {
     "data": {
      "image/png": "[encoded data removed]",
      "text/plain": [
       "<Figure size 432x288 with 1 Axes>"
      ]
     },
     "metadata": {
      "needs_background": "light"
     },
     "output_type": "display_data"
    }
   ],
   "source": [
    "marital_region_stacked_bar = crosstab_marital_region.plot.bar(stacked= True)\n",
    "plt.legend(title='Marital_Status_Region')"
   ]
  },
  {
   "cell_type": "code",
   "execution_count": 51,
   "id": "ccb675c2",
   "metadata": {},
   "outputs": [],
   "source": [
    "#Export chart marital & region\n",
    "\n",
    "marital_region_stacked_bar.figure.savefig(os.path.join(path, '04 Analysis','Visualizations', 'marital_region_stacked_bar.png'))"
   ]
  },
  {
   "cell_type": "code",
   "execution_count": 92,
   "id": "98b34919",
   "metadata": {},
   "outputs": [
    {
     "data": {
      "text/html": [
       "<div>\n",
       "<style scoped>\n",
       "    .dataframe tbody tr th:only-of-type {\n",
       "        vertical-align: middle;\n",
       "    }\n",
       "\n",
       "    .dataframe tbody tr th {\n",
       "        vertical-align: top;\n",
       "    }\n",
       "\n",
       "    .dataframe thead th {\n",
       "        text-align: right;\n",
       "    }\n",
       "</style>\n",
       "<table border=\"1\" class=\"dataframe\">\n",
       "  <thead>\n",
       "    <tr style=\"text-align: right;\">\n",
       "      <th>marital_status</th>\n",
       "      <th>divorced/widowed</th>\n",
       "      <th>living with parents and siblings</th>\n",
       "      <th>married</th>\n",
       "      <th>single</th>\n",
       "    </tr>\n",
       "    <tr>\n",
       "      <th>order_frequency_flag</th>\n",
       "      <th></th>\n",
       "      <th></th>\n",
       "      <th></th>\n",
       "      <th></th>\n",
       "    </tr>\n",
       "  </thead>\n",
       "  <tbody>\n",
       "    <tr>\n",
       "      <th>Frequent customer</th>\n",
       "      <td>1557417</td>\n",
       "      <td>884282</td>\n",
       "      <td>12739595</td>\n",
       "      <td>2970993</td>\n",
       "    </tr>\n",
       "    <tr>\n",
       "      <th>Non-frequent customer</th>\n",
       "      <td>123812</td>\n",
       "      <td>71132</td>\n",
       "      <td>1031686</td>\n",
       "      <td>238118</td>\n",
       "    </tr>\n",
       "    <tr>\n",
       "      <th>Regular customer</th>\n",
       "      <td>409957</td>\n",
       "      <td>217209</td>\n",
       "      <td>3382652</td>\n",
       "      <td>810611</td>\n",
       "    </tr>\n",
       "  </tbody>\n",
       "</table>\n",
       "</div>"
      ],
      "text/plain": [
       "marital_status         divorced/widowed  living with parents and siblings  \\\n",
       "order_frequency_flag                                                        \n",
       "Frequent customer               1557417                            884282   \n",
       "Non-frequent customer            123812                             71132   \n",
       "Regular customer                 409957                            217209   \n",
       "\n",
       "marital_status          married   single  \n",
       "order_frequency_flag                      \n",
       "Frequent customer      12739595  2970993  \n",
       "Non-frequent customer   1031686   238118  \n",
       "Regular customer        3382652   810611  "
      ]
     },
     "execution_count": 92,
     "metadata": {},
     "output_type": "execute_result"
    }
   ],
   "source": [
    "#Marital & Frequency flag\n",
    "crosstab_marital_frequency= pd.crosstab(df_all['order_frequency_flag'], df_all['marital_status'], dropna = False)\n",
    "crosstab_marital_frequency"
   ]
  },
  {
   "cell_type": "code",
   "execution_count": 94,
   "id": "80a8ca49",
   "metadata": {},
   "outputs": [
    {
     "data": {
      "text/plain": [
       "<matplotlib.legend.Legend at 0x7fca4523c490>"
      ]
     },
     "execution_count": 94,
     "metadata": {},
     "output_type": "execute_result"
    },
    {
     "data": {
      "image/png": "[encoded data removed]",
      "text/plain": [
       "<Figure size 432x288 with 1 Axes>"
      ]
     },
     "metadata": {
      "needs_background": "light"
     },
     "output_type": "display_data"
    }
   ],
   "source": [
    "marital_frequency_stacked_bar = crosstab_marital_frequency.plot.bar(stacked= True)\n",
    "plt.legend(title='Marital Status Frequency')"
   ]
  },
  {
   "cell_type": "code",
   "execution_count": 95,
   "id": "5dbbc839",
   "metadata": {},
   "outputs": [],
   "source": [
    "#Export chart marital & frequency\n",
    "\n",
    "marital_frequency_stacked_bar.figure.savefig(os.path.join(path, '04 Analysis','Visualizations', 'marital_frequency_stacked_bar.png'))"
   ]
  },
  {
   "cell_type": "code",
   "execution_count": 93,
   "id": "791258f3",
   "metadata": {},
   "outputs": [
    {
     "data": {
      "text/html": [
       "<div>\n",
       "<style scoped>\n",
       "    .dataframe tbody tr th:only-of-type {\n",
       "        vertical-align: middle;\n",
       "    }\n",
       "\n",
       "    .dataframe tbody tr th {\n",
       "        vertical-align: top;\n",
       "    }\n",
       "\n",
       "    .dataframe thead th {\n",
       "        text-align: right;\n",
       "    }\n",
       "</style>\n",
       "<table border=\"1\" class=\"dataframe\">\n",
       "  <thead>\n",
       "    <tr style=\"text-align: right;\">\n",
       "      <th>Parent_Status</th>\n",
       "      <th>Middle Age Parent</th>\n",
       "      <th>No Dependents</th>\n",
       "      <th>Older Parent</th>\n",
       "      <th>Young Parent</th>\n",
       "    </tr>\n",
       "    <tr>\n",
       "      <th>order_frequency_flag</th>\n",
       "      <th></th>\n",
       "      <th></th>\n",
       "      <th></th>\n",
       "      <th></th>\n",
       "    </tr>\n",
       "  </thead>\n",
       "  <tbody>\n",
       "    <tr>\n",
       "      <th>Frequent customer</th>\n",
       "      <td>3241194</td>\n",
       "      <td>4528410</td>\n",
       "      <td>6751315</td>\n",
       "      <td>3631368</td>\n",
       "    </tr>\n",
       "    <tr>\n",
       "      <th>Non-frequent customer</th>\n",
       "      <td>262250</td>\n",
       "      <td>361930</td>\n",
       "      <td>549346</td>\n",
       "      <td>291222</td>\n",
       "    </tr>\n",
       "    <tr>\n",
       "      <th>Regular customer</th>\n",
       "      <td>844049</td>\n",
       "      <td>1220568</td>\n",
       "      <td>1795538</td>\n",
       "      <td>960274</td>\n",
       "    </tr>\n",
       "  </tbody>\n",
       "</table>\n",
       "</div>"
      ],
      "text/plain": [
       "Parent_Status          Middle Age Parent  No Dependents  Older Parent  \\\n",
       "order_frequency_flag                                                    \n",
       "Frequent customer                3241194        4528410       6751315   \n",
       "Non-frequent customer             262250         361930        549346   \n",
       "Regular customer                  844049        1220568       1795538   \n",
       "\n",
       "Parent_Status          Young Parent  \n",
       "order_frequency_flag                 \n",
       "Frequent customer           3631368  \n",
       "Non-frequent customer        291222  \n",
       "Regular customer             960274  "
      ]
     },
     "execution_count": 93,
     "metadata": {},
     "output_type": "execute_result"
    }
   ],
   "source": [
    "#Parental & Frequency flag\n",
    "crosstab_parental_frequency= pd.crosstab(df_all['order_frequency_flag'], df_all['Parent_Status'], dropna = False)\n",
    "crosstab_parental_frequency"
   ]
  },
  {
   "cell_type": "code",
   "execution_count": 96,
   "id": "07f22703",
   "metadata": {},
   "outputs": [
    {
     "data": {
      "text/plain": [
       "<matplotlib.legend.Legend at 0x7fca43f209d0>"
      ]
     },
     "execution_count": 96,
     "metadata": {},
     "output_type": "execute_result"
    },
    {
     "data": {
      "image/png": "[encoded data removed]",
      "text/plain": [
       "<Figure size 432x288 with 1 Axes>"
      ]
     },
     "metadata": {
      "needs_background": "light"
     },
     "output_type": "display_data"
    }
   ],
   "source": [
    "parental_frequency_stacked_bar = crosstab_parental_frequency.plot.bar(stacked= True)\n",
    "plt.legend(title='Parental Status Frequency')"
   ]
  },
  {
   "cell_type": "code",
   "execution_count": 97,
   "id": "6a7d05f3",
   "metadata": {},
   "outputs": [],
   "source": [
    "#Export chart marital & frequency\n",
    "\n",
    "parental_frequency_stacked_bar.figure.savefig(os.path.join(path, '04 Analysis','Visualizations', 'parental_frequency_stacked_bar.png'))"
   ]
  },
  {
   "cell_type": "code",
   "execution_count": 98,
   "id": "32de2e17",
   "metadata": {},
   "outputs": [
    {
     "data": {
      "text/html": [
       "<div>\n",
       "<style scoped>\n",
       "    .dataframe tbody tr th:only-of-type {\n",
       "        vertical-align: middle;\n",
       "    }\n",
       "\n",
       "    .dataframe tbody tr th {\n",
       "        vertical-align: top;\n",
       "    }\n",
       "\n",
       "    .dataframe thead th {\n",
       "        text-align: right;\n",
       "    }\n",
       "</style>\n",
       "<table border=\"1\" class=\"dataframe\">\n",
       "  <thead>\n",
       "    <tr style=\"text-align: right;\">\n",
       "      <th>loyalty_flag</th>\n",
       "      <th>Loyal customer</th>\n",
       "      <th>New customer</th>\n",
       "      <th>Regular customer</th>\n",
       "    </tr>\n",
       "    <tr>\n",
       "      <th>order_frequency_flag</th>\n",
       "      <th></th>\n",
       "      <th></th>\n",
       "      <th></th>\n",
       "    </tr>\n",
       "  </thead>\n",
       "  <tbody>\n",
       "    <tr>\n",
       "      <th>Frequent customer</th>\n",
       "      <td>9561054</td>\n",
       "      <td>576911</td>\n",
       "      <td>8014322</td>\n",
       "    </tr>\n",
       "    <tr>\n",
       "      <th>Non-frequent customer</th>\n",
       "      <td>0</td>\n",
       "      <td>840636</td>\n",
       "      <td>624112</td>\n",
       "    </tr>\n",
       "    <tr>\n",
       "      <th>Regular customer</th>\n",
       "      <td>3612</td>\n",
       "      <td>699133</td>\n",
       "      <td>4117684</td>\n",
       "    </tr>\n",
       "  </tbody>\n",
       "</table>\n",
       "</div>"
      ],
      "text/plain": [
       "loyalty_flag           Loyal customer  New customer  Regular customer\n",
       "order_frequency_flag                                                 \n",
       "Frequent customer             9561054        576911           8014322\n",
       "Non-frequent customer               0        840636            624112\n",
       "Regular customer                 3612        699133           4117684"
      ]
     },
     "execution_count": 98,
     "metadata": {},
     "output_type": "execute_result"
    }
   ],
   "source": [
    "#Loyalty & Frequency flag\n",
    "crosstab_loyalty_frequency= pd.crosstab(df_all['order_frequency_flag'], df_all['loyalty_flag'], dropna = False)\n",
    "crosstab_loyalty_frequency"
   ]
  },
  {
   "cell_type": "code",
   "execution_count": 99,
   "id": "346c65bb",
   "metadata": {},
   "outputs": [
    {
     "data": {
      "text/plain": [
       "<matplotlib.legend.Legend at 0x7fca44571640>"
      ]
     },
     "execution_count": 99,
     "metadata": {},
     "output_type": "execute_result"
    },
    {
     "data": {
      "image/png": "[encoded data removed]",
      "text/plain": [
       "<Figure size 432x288 with 1 Axes>"
      ]
     },
     "metadata": {
      "needs_background": "light"
     },
     "output_type": "display_data"
    }
   ],
   "source": [
    "loyalty_frequency_stacked_bar = crosstab_loyalty_frequency.plot.bar(stacked= True)\n",
    "plt.legend(title='Loyalty Status Frequency')"
   ]
  },
  {
   "cell_type": "code",
   "execution_count": 100,
   "id": "3cffa287",
   "metadata": {},
   "outputs": [],
   "source": [
    "#Export chart loyalty & frequency\n",
    "loyalty_frequency_stacked_bar.figure.savefig(os.path.join(path, '04 Analysis','Visualizations', 'loyalty_frequency_stacked_bar.png'))"
   ]
  },
  {
   "cell_type": "code",
   "execution_count": 101,
   "id": "880cdea6",
   "metadata": {},
   "outputs": [
    {
     "data": {
      "text/html": [
       "<div>\n",
       "<style scoped>\n",
       "    .dataframe tbody tr th:only-of-type {\n",
       "        vertical-align: middle;\n",
       "    }\n",
       "\n",
       "    .dataframe tbody tr th {\n",
       "        vertical-align: top;\n",
       "    }\n",
       "\n",
       "    .dataframe thead th {\n",
       "        text-align: right;\n",
       "    }\n",
       "</style>\n",
       "<table border=\"1\" class=\"dataframe\">\n",
       "  <thead>\n",
       "    <tr style=\"text-align: right;\">\n",
       "      <th>Pet Owner</th>\n",
       "      <th>Not Pet Owner</th>\n",
       "      <th>Pet Owner</th>\n",
       "    </tr>\n",
       "    <tr>\n",
       "      <th>order_frequency_flag</th>\n",
       "      <th></th>\n",
       "      <th></th>\n",
       "    </tr>\n",
       "  </thead>\n",
       "  <tbody>\n",
       "    <tr>\n",
       "      <th>Frequent customer</th>\n",
       "      <td>16089085</td>\n",
       "      <td>2063202</td>\n",
       "    </tr>\n",
       "    <tr>\n",
       "      <th>Non-frequent customer</th>\n",
       "      <td>1370541</td>\n",
       "      <td>94207</td>\n",
       "    </tr>\n",
       "    <tr>\n",
       "      <th>Regular customer</th>\n",
       "      <td>4343885</td>\n",
       "      <td>476544</td>\n",
       "    </tr>\n",
       "  </tbody>\n",
       "</table>\n",
       "</div>"
      ],
      "text/plain": [
       "Pet Owner              Not Pet Owner  Pet Owner\n",
       "order_frequency_flag                           \n",
       "Frequent customer           16089085    2063202\n",
       "Non-frequent customer        1370541      94207\n",
       "Regular customer             4343885     476544"
      ]
     },
     "execution_count": 101,
     "metadata": {},
     "output_type": "execute_result"
    }
   ],
   "source": [
    "#Pet & Frequency flag\n",
    "crosstab_pet_frequency= pd.crosstab(df_all['order_frequency_flag'], df_all['Pet Owner'], dropna = False)\n",
    "crosstab_pet_frequency"
   ]
  },
  {
   "cell_type": "code",
   "execution_count": 103,
   "id": "936f3c09",
   "metadata": {},
   "outputs": [
    {
     "data": {
      "text/plain": [
       "<matplotlib.legend.Legend at 0x7fca4253b6d0>"
      ]
     },
     "execution_count": 103,
     "metadata": {},
     "output_type": "execute_result"
    },
    {
     "data": {
      "image/png": "[encoded data removed]",
      "text/plain": [
       "<Figure size 432x288 with 1 Axes>"
      ]
     },
     "metadata": {
      "needs_background": "light"
     },
     "output_type": "display_data"
    }
   ],
   "source": [
    "pet_frequency_stacked_bar = crosstab_pet_frequency.plot.bar(stacked= True)\n",
    "plt.legend(title='Pet Owner Frequency')"
   ]
  },
  {
   "cell_type": "code",
   "execution_count": 104,
   "id": "bdce412a",
   "metadata": {},
   "outputs": [],
   "source": [
    "#Export chart Pet owner & frequency\n",
    "pet_frequency_stacked_bar.figure.savefig(os.path.join(path, '04 Analysis','Visualizations', 'pet_frequency_stacked_bar.png'))"
   ]
  },
  {
   "cell_type": "code",
   "execution_count": 105,
   "id": "03878c6d",
   "metadata": {},
   "outputs": [
    {
     "data": {
      "text/html": [
       "<div>\n",
       "<style scoped>\n",
       "    .dataframe tbody tr th:only-of-type {\n",
       "        vertical-align: middle;\n",
       "    }\n",
       "\n",
       "    .dataframe tbody tr th {\n",
       "        vertical-align: top;\n",
       "    }\n",
       "\n",
       "    .dataframe thead th {\n",
       "        text-align: right;\n",
       "    }\n",
       "</style>\n",
       "<table border=\"1\" class=\"dataframe\">\n",
       "  <thead>\n",
       "    <tr style=\"text-align: right;\">\n",
       "      <th>Baby Household</th>\n",
       "      <th>Baby Household</th>\n",
       "      <th>Non-Baby Household</th>\n",
       "    </tr>\n",
       "    <tr>\n",
       "      <th>order_frequency_flag</th>\n",
       "      <th></th>\n",
       "      <th></th>\n",
       "    </tr>\n",
       "  </thead>\n",
       "  <tbody>\n",
       "    <tr>\n",
       "      <th>Frequent customer</th>\n",
       "      <td>6613600</td>\n",
       "      <td>11538687</td>\n",
       "    </tr>\n",
       "    <tr>\n",
       "      <th>Non-frequent customer</th>\n",
       "      <td>204968</td>\n",
       "      <td>1259780</td>\n",
       "    </tr>\n",
       "    <tr>\n",
       "      <th>Regular customer</th>\n",
       "      <td>1009321</td>\n",
       "      <td>3811108</td>\n",
       "    </tr>\n",
       "  </tbody>\n",
       "</table>\n",
       "</div>"
      ],
      "text/plain": [
       "Baby Household         Baby Household  Non-Baby Household\n",
       "order_frequency_flag                                     \n",
       "Frequent customer             6613600            11538687\n",
       "Non-frequent customer          204968             1259780\n",
       "Regular customer              1009321             3811108"
      ]
     },
     "execution_count": 105,
     "metadata": {},
     "output_type": "execute_result"
    }
   ],
   "source": [
    "#baby & Frequency flag\n",
    "crosstab_baby_frequency= pd.crosstab(df_all['order_frequency_flag'], df_all['Baby Household'], dropna = False)\n",
    "crosstab_baby_frequency"
   ]
  },
  {
   "cell_type": "code",
   "execution_count": 106,
   "id": "177c8ca6",
   "metadata": {},
   "outputs": [
    {
     "data": {
      "text/plain": [
       "<matplotlib.legend.Legend at 0x7fca435fcbe0>"
      ]
     },
     "execution_count": 106,
     "metadata": {},
     "output_type": "execute_result"
    },
    {
     "data": {
      "image/png": "[encoded data removed]",
      "text/plain": [
       "<Figure size 432x288 with 1 Axes>"
      ]
     },
     "metadata": {
      "needs_background": "light"
     },
     "output_type": "display_data"
    }
   ],
   "source": [
    "baby_frequency_stacked_bar = crosstab_baby_frequency.plot.bar(stacked= True)\n",
    "plt.legend(title='Baby Household Frequency')"
   ]
  },
  {
   "cell_type": "code",
   "execution_count": 107,
   "id": "e096b861",
   "metadata": {},
   "outputs": [],
   "source": [
    "#Export chart Baby Household & frequency\n",
    "baby_frequency_stacked_bar.figure.savefig(os.path.join(path, '04 Analysis','Visualizations', 'baby_frequency_stacked_bar.png'))"
   ]
  },
  {
   "cell_type": "code",
   "execution_count": 108,
   "id": "11dbbdbc",
   "metadata": {},
   "outputs": [
    {
     "data": {
      "text/html": [
       "<div>\n",
       "<style scoped>\n",
       "    .dataframe tbody tr th:only-of-type {\n",
       "        vertical-align: middle;\n",
       "    }\n",
       "\n",
       "    .dataframe tbody tr th {\n",
       "        vertical-align: top;\n",
       "    }\n",
       "\n",
       "    .dataframe thead th {\n",
       "        text-align: right;\n",
       "    }\n",
       "</style>\n",
       "<table border=\"1\" class=\"dataframe\">\n",
       "  <thead>\n",
       "    <tr style=\"text-align: right;\">\n",
       "      <th>Country_Region</th>\n",
       "      <th>Midwest</th>\n",
       "      <th>Northeast</th>\n",
       "      <th>South</th>\n",
       "      <th>West</th>\n",
       "    </tr>\n",
       "    <tr>\n",
       "      <th>order_frequency_flag</th>\n",
       "      <th></th>\n",
       "      <th></th>\n",
       "      <th></th>\n",
       "      <th></th>\n",
       "    </tr>\n",
       "  </thead>\n",
       "  <tbody>\n",
       "    <tr>\n",
       "      <th>Frequent customer</th>\n",
       "      <td>4216823</td>\n",
       "      <td>3207387</td>\n",
       "      <td>6054157</td>\n",
       "      <td>4673920</td>\n",
       "    </tr>\n",
       "    <tr>\n",
       "      <th>Non-frequent customer</th>\n",
       "      <td>350428</td>\n",
       "      <td>250766</td>\n",
       "      <td>490584</td>\n",
       "      <td>372970</td>\n",
       "    </tr>\n",
       "    <tr>\n",
       "      <th>Regular customer</th>\n",
       "      <td>1149395</td>\n",
       "      <td>861398</td>\n",
       "      <td>1591914</td>\n",
       "      <td>1217722</td>\n",
       "    </tr>\n",
       "  </tbody>\n",
       "</table>\n",
       "</div>"
      ],
      "text/plain": [
       "Country_Region         Midwest  Northeast    South     West\n",
       "order_frequency_flag                                       \n",
       "Frequent customer      4216823    3207387  6054157  4673920\n",
       "Non-frequent customer   350428     250766   490584   372970\n",
       "Regular customer       1149395     861398  1591914  1217722"
      ]
     },
     "execution_count": 108,
     "metadata": {},
     "output_type": "execute_result"
    }
   ],
   "source": [
    "#region & Frequency flag\n",
    "crosstab_region_frequency= pd.crosstab(df_all['order_frequency_flag'], df_all['Country_Region'], dropna = False)\n",
    "crosstab_region_frequency"
   ]
  },
  {
   "cell_type": "code",
   "execution_count": 109,
   "id": "a696ac4d",
   "metadata": {},
   "outputs": [
    {
     "data": {
      "text/plain": [
       "<matplotlib.legend.Legend at 0x7fca435f0220>"
      ]
     },
     "execution_count": 109,
     "metadata": {},
     "output_type": "execute_result"
    },
    {
     "data": {
      "image/png": "[encoded data removed]",
      "text/plain": [
       "<Figure size 432x288 with 1 Axes>"
      ]
     },
     "metadata": {
      "needs_background": "light"
     },
     "output_type": "display_data"
    }
   ],
   "source": [
    "region_frequency_stacked_bar = crosstab_region_frequency.plot.bar(stacked= True)\n",
    "plt.legend(title='Region Frequency')"
   ]
  },
  {
   "cell_type": "code",
   "execution_count": 110,
   "id": "c149847d",
   "metadata": {},
   "outputs": [],
   "source": [
    "#Export chart Region & frequency\n",
    "region_frequency_stacked_bar.figure.savefig(os.path.join(path, '04 Analysis','Visualizations', 'region_frequency_stacked_bar.png'))"
   ]
  },
  {
   "cell_type": "code",
   "execution_count": 111,
   "id": "4f30ba3e",
   "metadata": {},
   "outputs": [
    {
     "data": {
      "text/html": [
       "<div>\n",
       "<style scoped>\n",
       "    .dataframe tbody tr th:only-of-type {\n",
       "        vertical-align: middle;\n",
       "    }\n",
       "\n",
       "    .dataframe tbody tr th {\n",
       "        vertical-align: top;\n",
       "    }\n",
       "\n",
       "    .dataframe thead th {\n",
       "        text-align: right;\n",
       "    }\n",
       "</style>\n",
       "<table border=\"1\" class=\"dataframe\">\n",
       "  <thead>\n",
       "    <tr style=\"text-align: right;\">\n",
       "      <th>Income Level</th>\n",
       "      <th>Higher Income</th>\n",
       "      <th>Lower Income</th>\n",
       "      <th>Middle Income</th>\n",
       "    </tr>\n",
       "    <tr>\n",
       "      <th>order_frequency_flag</th>\n",
       "      <th></th>\n",
       "      <th></th>\n",
       "      <th></th>\n",
       "    </tr>\n",
       "  </thead>\n",
       "  <tbody>\n",
       "    <tr>\n",
       "      <th>Frequent customer</th>\n",
       "      <td>8375203</td>\n",
       "      <td>880082</td>\n",
       "      <td>8897002</td>\n",
       "    </tr>\n",
       "    <tr>\n",
       "      <th>Non-frequent customer</th>\n",
       "      <td>652129</td>\n",
       "      <td>91716</td>\n",
       "      <td>720903</td>\n",
       "    </tr>\n",
       "    <tr>\n",
       "      <th>Regular customer</th>\n",
       "      <td>2207993</td>\n",
       "      <td>269363</td>\n",
       "      <td>2343073</td>\n",
       "    </tr>\n",
       "  </tbody>\n",
       "</table>\n",
       "</div>"
      ],
      "text/plain": [
       "Income Level           Higher Income  Lower Income  Middle Income\n",
       "order_frequency_flag                                             \n",
       "Frequent customer            8375203        880082        8897002\n",
       "Non-frequent customer         652129         91716         720903\n",
       "Regular customer             2207993        269363        2343073"
      ]
     },
     "execution_count": 111,
     "metadata": {},
     "output_type": "execute_result"
    }
   ],
   "source": [
    "#income level & Frequency flag\n",
    "crosstab_income_frequency= pd.crosstab(df_all['order_frequency_flag'], df_all['Income Level'], dropna = False)\n",
    "crosstab_income_frequency"
   ]
  },
  {
   "cell_type": "code",
   "execution_count": 112,
   "id": "a6b3d5bc",
   "metadata": {},
   "outputs": [
    {
     "data": {
      "text/plain": [
       "<matplotlib.legend.Legend at 0x7fca43db7b20>"
      ]
     },
     "execution_count": 112,
     "metadata": {},
     "output_type": "execute_result"
    },
    {
     "data": {
      "image/png": "[encoded data removed]",
      "text/plain": [
       "<Figure size 432x288 with 1 Axes>"
      ]
     },
     "metadata": {
      "needs_background": "light"
     },
     "output_type": "display_data"
    }
   ],
   "source": [
    "income_frequency_stacked_bar = crosstab_income_frequency.plot.bar(stacked= True)\n",
    "plt.legend(title='Income Frequency')"
   ]
  },
  {
   "cell_type": "code",
   "execution_count": 113,
   "id": "ed0c0d7e",
   "metadata": {},
   "outputs": [],
   "source": [
    "#Export chart Income & frequency\n",
    "income_frequency_stacked_bar.figure.savefig(os.path.join(path, '04 Analysis','Visualizations', 'income_frequency_stacked_bar.png'))"
   ]
  },
  {
   "cell_type": "markdown",
   "id": "91f75d66",
   "metadata": {},
   "source": [
    "## 04. Stats & other Aggregated data"
   ]
  },
  {
   "cell_type": "code",
   "execution_count": 53,
   "id": "1b17b01c",
   "metadata": {},
   "outputs": [
    {
     "data": {
      "text/html": [
       "<div>\n",
       "<style scoped>\n",
       "    .dataframe tbody tr th:only-of-type {\n",
       "        vertical-align: middle;\n",
       "    }\n",
       "\n",
       "    .dataframe tbody tr th {\n",
       "        vertical-align: top;\n",
       "    }\n",
       "\n",
       "    .dataframe thead tr th {\n",
       "        text-align: left;\n",
       "    }\n",
       "\n",
       "    .dataframe thead tr:last-of-type th {\n",
       "        text-align: right;\n",
       "    }\n",
       "</style>\n",
       "<table border=\"1\" class=\"dataframe\">\n",
       "  <thead>\n",
       "    <tr>\n",
       "      <th></th>\n",
       "      <th colspan=\"2\" halign=\"left\">order_hour_of_day</th>\n",
       "    </tr>\n",
       "    <tr>\n",
       "      <th></th>\n",
       "      <th>mean</th>\n",
       "      <th>median</th>\n",
       "    </tr>\n",
       "    <tr>\n",
       "      <th>loyalty_flag</th>\n",
       "      <th></th>\n",
       "      <th></th>\n",
       "    </tr>\n",
       "  </thead>\n",
       "  <tbody>\n",
       "    <tr>\n",
       "      <th>Loyal customer</th>\n",
       "      <td>13.181415</td>\n",
       "      <td>13</td>\n",
       "    </tr>\n",
       "    <tr>\n",
       "      <th>New customer</th>\n",
       "      <td>13.627367</td>\n",
       "      <td>14</td>\n",
       "    </tr>\n",
       "    <tr>\n",
       "      <th>Regular customer</th>\n",
       "      <td>13.453853</td>\n",
       "      <td>13</td>\n",
       "    </tr>\n",
       "  </tbody>\n",
       "</table>\n",
       "</div>"
      ],
      "text/plain": [
       "                 order_hour_of_day       \n",
       "                              mean median\n",
       "loyalty_flag                             \n",
       "Loyal customer           13.181415     13\n",
       "New customer             13.627367     14\n",
       "Regular customer         13.453853     13"
      ]
     },
     "execution_count": 53,
     "metadata": {},
     "output_type": "execute_result"
    }
   ],
   "source": [
    "#Stats on order_hour_of_day grouped by loyalty status\n",
    "\n",
    "df_all.groupby('loyalty_flag').agg({'order_hour_of_day':['mean','median']})"
   ]
  },
  {
   "cell_type": "code",
   "execution_count": 56,
   "id": "885b988b",
   "metadata": {},
   "outputs": [
    {
     "data": {
      "text/html": [
       "<div>\n",
       "<style scoped>\n",
       "    .dataframe tbody tr th:only-of-type {\n",
       "        vertical-align: middle;\n",
       "    }\n",
       "\n",
       "    .dataframe tbody tr th {\n",
       "        vertical-align: top;\n",
       "    }\n",
       "\n",
       "    .dataframe thead tr th {\n",
       "        text-align: left;\n",
       "    }\n",
       "\n",
       "    .dataframe thead tr:last-of-type th {\n",
       "        text-align: right;\n",
       "    }\n",
       "</style>\n",
       "<table border=\"1\" class=\"dataframe\">\n",
       "  <thead>\n",
       "    <tr>\n",
       "      <th></th>\n",
       "      <th colspan=\"2\" halign=\"left\">order_day_of_the_week</th>\n",
       "    </tr>\n",
       "    <tr>\n",
       "      <th></th>\n",
       "      <th>mean</th>\n",
       "      <th>median</th>\n",
       "    </tr>\n",
       "    <tr>\n",
       "      <th>loyalty_flag</th>\n",
       "      <th></th>\n",
       "      <th></th>\n",
       "    </tr>\n",
       "  </thead>\n",
       "  <tbody>\n",
       "    <tr>\n",
       "      <th>Loyal customer</th>\n",
       "      <td>2.791116</td>\n",
       "      <td>3</td>\n",
       "    </tr>\n",
       "    <tr>\n",
       "      <th>New customer</th>\n",
       "      <td>2.704677</td>\n",
       "      <td>2</td>\n",
       "    </tr>\n",
       "    <tr>\n",
       "      <th>Regular customer</th>\n",
       "      <td>2.722645</td>\n",
       "      <td>2</td>\n",
       "    </tr>\n",
       "  </tbody>\n",
       "</table>\n",
       "</div>"
      ],
      "text/plain": [
       "                 order_day_of_the_week       \n",
       "                                  mean median\n",
       "loyalty_flag                                 \n",
       "Loyal customer                2.791116      3\n",
       "New customer                  2.704677      2\n",
       "Regular customer              2.722645      2"
      ]
     },
     "execution_count": 56,
     "metadata": {},
     "output_type": "execute_result"
    }
   ],
   "source": [
    "#Stats on order_day_of_week grouped by loyalty status\n",
    "\n",
    "df_all.groupby('loyalty_flag').agg({'order_day_of_the_week':['mean','median']})"
   ]
  },
  {
   "cell_type": "code",
   "execution_count": 59,
   "id": "20f4adb7",
   "metadata": {},
   "outputs": [
    {
     "data": {
      "text/html": [
       "<div>\n",
       "<style scoped>\n",
       "    .dataframe tbody tr th:only-of-type {\n",
       "        vertical-align: middle;\n",
       "    }\n",
       "\n",
       "    .dataframe tbody tr th {\n",
       "        vertical-align: top;\n",
       "    }\n",
       "\n",
       "    .dataframe thead tr th {\n",
       "        text-align: left;\n",
       "    }\n",
       "\n",
       "    .dataframe thead tr:last-of-type th {\n",
       "        text-align: right;\n",
       "    }\n",
       "</style>\n",
       "<table border=\"1\" class=\"dataframe\">\n",
       "  <thead>\n",
       "    <tr>\n",
       "      <th></th>\n",
       "      <th colspan=\"2\" halign=\"left\">order_hour_of_day</th>\n",
       "    </tr>\n",
       "    <tr>\n",
       "      <th></th>\n",
       "      <th>mean</th>\n",
       "      <th>median</th>\n",
       "    </tr>\n",
       "    <tr>\n",
       "      <th>Country_Region</th>\n",
       "      <th></th>\n",
       "      <th></th>\n",
       "    </tr>\n",
       "  </thead>\n",
       "  <tbody>\n",
       "    <tr>\n",
       "      <th>Midwest</th>\n",
       "      <td>13.382333</td>\n",
       "      <td>13</td>\n",
       "    </tr>\n",
       "    <tr>\n",
       "      <th>Northeast</th>\n",
       "      <td>13.362154</td>\n",
       "      <td>13</td>\n",
       "    </tr>\n",
       "    <tr>\n",
       "      <th>South</th>\n",
       "      <td>13.350542</td>\n",
       "      <td>13</td>\n",
       "    </tr>\n",
       "    <tr>\n",
       "      <th>West</th>\n",
       "      <td>13.359204</td>\n",
       "      <td>13</td>\n",
       "    </tr>\n",
       "  </tbody>\n",
       "</table>\n",
       "</div>"
      ],
      "text/plain": [
       "               order_hour_of_day       \n",
       "                            mean median\n",
       "Country_Region                         \n",
       "Midwest                13.382333     13\n",
       "Northeast              13.362154     13\n",
       "South                  13.350542     13\n",
       "West                   13.359204     13"
      ]
     },
     "execution_count": 59,
     "metadata": {},
     "output_type": "execute_result"
    }
   ],
   "source": [
    "#Stats on order_hour_of_day grouped by region\n",
    "\n",
    "df_all.groupby('Country_Region').agg({'order_hour_of_day':['mean','median']})"
   ]
  },
  {
   "cell_type": "code",
   "execution_count": 62,
   "id": "47445f3e",
   "metadata": {},
   "outputs": [
    {
     "data": {
      "text/html": [
       "<div>\n",
       "<style scoped>\n",
       "    .dataframe tbody tr th:only-of-type {\n",
       "        vertical-align: middle;\n",
       "    }\n",
       "\n",
       "    .dataframe tbody tr th {\n",
       "        vertical-align: top;\n",
       "    }\n",
       "\n",
       "    .dataframe thead tr th {\n",
       "        text-align: left;\n",
       "    }\n",
       "\n",
       "    .dataframe thead tr:last-of-type th {\n",
       "        text-align: right;\n",
       "    }\n",
       "</style>\n",
       "<table border=\"1\" class=\"dataframe\">\n",
       "  <thead>\n",
       "    <tr>\n",
       "      <th></th>\n",
       "      <th colspan=\"2\" halign=\"left\">order_day_of_the_week</th>\n",
       "    </tr>\n",
       "    <tr>\n",
       "      <th></th>\n",
       "      <th>mean</th>\n",
       "      <th>median</th>\n",
       "    </tr>\n",
       "    <tr>\n",
       "      <th>Country_Region</th>\n",
       "      <th></th>\n",
       "      <th></th>\n",
       "    </tr>\n",
       "  </thead>\n",
       "  <tbody>\n",
       "    <tr>\n",
       "      <th>Midwest</th>\n",
       "      <td>2.747301</td>\n",
       "      <td>3</td>\n",
       "    </tr>\n",
       "    <tr>\n",
       "      <th>Northeast</th>\n",
       "      <td>2.740939</td>\n",
       "      <td>3</td>\n",
       "    </tr>\n",
       "    <tr>\n",
       "      <th>South</th>\n",
       "      <td>2.751584</td>\n",
       "      <td>3</td>\n",
       "    </tr>\n",
       "    <tr>\n",
       "      <th>West</th>\n",
       "      <td>2.748415</td>\n",
       "      <td>3</td>\n",
       "    </tr>\n",
       "  </tbody>\n",
       "</table>\n",
       "</div>"
      ],
      "text/plain": [
       "               order_day_of_the_week       \n",
       "                                mean median\n",
       "Country_Region                             \n",
       "Midwest                     2.747301      3\n",
       "Northeast                   2.740939      3\n",
       "South                       2.751584      3\n",
       "West                        2.748415      3"
      ]
     },
     "execution_count": 62,
     "metadata": {},
     "output_type": "execute_result"
    }
   ],
   "source": [
    "#Stats on order_day_of_week grouped by region\n",
    "\n",
    "df_all.groupby('Country_Region').agg({'order_day_of_the_week':['mean','median']})"
   ]
  },
  {
   "cell_type": "code",
   "execution_count": 63,
   "id": "5c05f0d3",
   "metadata": {},
   "outputs": [
    {
     "data": {
      "text/html": [
       "<div>\n",
       "<style scoped>\n",
       "    .dataframe tbody tr th:only-of-type {\n",
       "        vertical-align: middle;\n",
       "    }\n",
       "\n",
       "    .dataframe tbody tr th {\n",
       "        vertical-align: top;\n",
       "    }\n",
       "\n",
       "    .dataframe thead tr th {\n",
       "        text-align: left;\n",
       "    }\n",
       "\n",
       "    .dataframe thead tr:last-of-type th {\n",
       "        text-align: right;\n",
       "    }\n",
       "</style>\n",
       "<table border=\"1\" class=\"dataframe\">\n",
       "  <thead>\n",
       "    <tr>\n",
       "      <th></th>\n",
       "      <th colspan=\"2\" halign=\"left\">order_hour_of_day</th>\n",
       "    </tr>\n",
       "    <tr>\n",
       "      <th></th>\n",
       "      <th>mean</th>\n",
       "      <th>median</th>\n",
       "    </tr>\n",
       "    <tr>\n",
       "      <th>Parent_Status</th>\n",
       "      <th></th>\n",
       "      <th></th>\n",
       "    </tr>\n",
       "  </thead>\n",
       "  <tbody>\n",
       "    <tr>\n",
       "      <th>Middle Age Parent</th>\n",
       "      <td>13.380408</td>\n",
       "      <td>13</td>\n",
       "    </tr>\n",
       "    <tr>\n",
       "      <th>No Dependents</th>\n",
       "      <td>13.364980</td>\n",
       "      <td>13</td>\n",
       "    </tr>\n",
       "    <tr>\n",
       "      <th>Older Parent</th>\n",
       "      <td>13.363186</td>\n",
       "      <td>13</td>\n",
       "    </tr>\n",
       "    <tr>\n",
       "      <th>Young Parent</th>\n",
       "      <td>13.340932</td>\n",
       "      <td>13</td>\n",
       "    </tr>\n",
       "  </tbody>\n",
       "</table>\n",
       "</div>"
      ],
      "text/plain": [
       "                  order_hour_of_day       \n",
       "                               mean median\n",
       "Parent_Status                             \n",
       "Middle Age Parent         13.380408     13\n",
       "No Dependents             13.364980     13\n",
       "Older Parent              13.363186     13\n",
       "Young Parent              13.340932     13"
      ]
     },
     "execution_count": 63,
     "metadata": {},
     "output_type": "execute_result"
    }
   ],
   "source": [
    "#Stats on order_hour_of_day grouped by Parent Status profile\n",
    "\n",
    "df_all.groupby('Parent_Status').agg({'order_hour_of_day':['mean','median']})"
   ]
  },
  {
   "cell_type": "code",
   "execution_count": 64,
   "id": "3b2f77ba",
   "metadata": {},
   "outputs": [
    {
     "data": {
      "text/html": [
       "<div>\n",
       "<style scoped>\n",
       "    .dataframe tbody tr th:only-of-type {\n",
       "        vertical-align: middle;\n",
       "    }\n",
       "\n",
       "    .dataframe tbody tr th {\n",
       "        vertical-align: top;\n",
       "    }\n",
       "\n",
       "    .dataframe thead tr th {\n",
       "        text-align: left;\n",
       "    }\n",
       "\n",
       "    .dataframe thead tr:last-of-type th {\n",
       "        text-align: right;\n",
       "    }\n",
       "</style>\n",
       "<table border=\"1\" class=\"dataframe\">\n",
       "  <thead>\n",
       "    <tr>\n",
       "      <th></th>\n",
       "      <th colspan=\"2\" halign=\"left\">order_hour_of_day</th>\n",
       "    </tr>\n",
       "    <tr>\n",
       "      <th></th>\n",
       "      <th>mean</th>\n",
       "      <th>median</th>\n",
       "    </tr>\n",
       "    <tr>\n",
       "      <th>marital_status</th>\n",
       "      <th></th>\n",
       "      <th></th>\n",
       "    </tr>\n",
       "  </thead>\n",
       "  <tbody>\n",
       "    <tr>\n",
       "      <th>divorced/widowed</th>\n",
       "      <td>13.379609</td>\n",
       "      <td>13</td>\n",
       "    </tr>\n",
       "    <tr>\n",
       "      <th>living with parents and siblings</th>\n",
       "      <td>13.360197</td>\n",
       "      <td>13</td>\n",
       "    </tr>\n",
       "    <tr>\n",
       "      <th>married</th>\n",
       "      <td>13.361421</td>\n",
       "      <td>13</td>\n",
       "    </tr>\n",
       "    <tr>\n",
       "      <th>single</th>\n",
       "      <td>13.357370</td>\n",
       "      <td>13</td>\n",
       "    </tr>\n",
       "  </tbody>\n",
       "</table>\n",
       "</div>"
      ],
      "text/plain": [
       "                                 order_hour_of_day       \n",
       "                                              mean median\n",
       "marital_status                                           \n",
       "divorced/widowed                         13.379609     13\n",
       "living with parents and siblings         13.360197     13\n",
       "married                                  13.361421     13\n",
       "single                                   13.357370     13"
      ]
     },
     "execution_count": 64,
     "metadata": {},
     "output_type": "execute_result"
    }
   ],
   "source": [
    "#Stats on order_hour_of_day grouped by Parent Status profile\n",
    "\n",
    "df_all.groupby('marital_status').agg({'order_hour_of_day':['mean','median']})"
   ]
  },
  {
   "cell_type": "code",
   "execution_count": 65,
   "id": "b5381c55",
   "metadata": {},
   "outputs": [
    {
     "data": {
      "text/html": [
       "<div>\n",
       "<style scoped>\n",
       "    .dataframe tbody tr th:only-of-type {\n",
       "        vertical-align: middle;\n",
       "    }\n",
       "\n",
       "    .dataframe tbody tr th {\n",
       "        vertical-align: top;\n",
       "    }\n",
       "\n",
       "    .dataframe thead tr th {\n",
       "        text-align: left;\n",
       "    }\n",
       "\n",
       "    .dataframe thead tr:last-of-type th {\n",
       "        text-align: right;\n",
       "    }\n",
       "</style>\n",
       "<table border=\"1\" class=\"dataframe\">\n",
       "  <thead>\n",
       "    <tr>\n",
       "      <th></th>\n",
       "      <th colspan=\"2\" halign=\"left\">order_day_of_the_week</th>\n",
       "    </tr>\n",
       "    <tr>\n",
       "      <th></th>\n",
       "      <th>mean</th>\n",
       "      <th>median</th>\n",
       "    </tr>\n",
       "    <tr>\n",
       "      <th>Parent_Status</th>\n",
       "      <th></th>\n",
       "      <th></th>\n",
       "    </tr>\n",
       "  </thead>\n",
       "  <tbody>\n",
       "    <tr>\n",
       "      <th>Middle Age Parent</th>\n",
       "      <td>2.748401</td>\n",
       "      <td>3</td>\n",
       "    </tr>\n",
       "    <tr>\n",
       "      <th>No Dependents</th>\n",
       "      <td>2.741625</td>\n",
       "      <td>3</td>\n",
       "    </tr>\n",
       "    <tr>\n",
       "      <th>Older Parent</th>\n",
       "      <td>2.753922</td>\n",
       "      <td>3</td>\n",
       "    </tr>\n",
       "    <tr>\n",
       "      <th>Young Parent</th>\n",
       "      <td>2.744028</td>\n",
       "      <td>3</td>\n",
       "    </tr>\n",
       "  </tbody>\n",
       "</table>\n",
       "</div>"
      ],
      "text/plain": [
       "                  order_day_of_the_week       \n",
       "                                   mean median\n",
       "Parent_Status                                 \n",
       "Middle Age Parent              2.748401      3\n",
       "No Dependents                  2.741625      3\n",
       "Older Parent                   2.753922      3\n",
       "Young Parent                   2.744028      3"
      ]
     },
     "execution_count": 65,
     "metadata": {},
     "output_type": "execute_result"
    }
   ],
   "source": [
    "#Stats on order_day_of_week grouped by parental status\n",
    "\n",
    "df_all.groupby('Parent_Status').agg({'order_day_of_the_week':['mean','median']})"
   ]
  },
  {
   "cell_type": "code",
   "execution_count": 66,
   "id": "046fefc0",
   "metadata": {},
   "outputs": [
    {
     "data": {
      "text/html": [
       "<div>\n",
       "<style scoped>\n",
       "    .dataframe tbody tr th:only-of-type {\n",
       "        vertical-align: middle;\n",
       "    }\n",
       "\n",
       "    .dataframe tbody tr th {\n",
       "        vertical-align: top;\n",
       "    }\n",
       "\n",
       "    .dataframe thead tr th {\n",
       "        text-align: left;\n",
       "    }\n",
       "\n",
       "    .dataframe thead tr:last-of-type th {\n",
       "        text-align: right;\n",
       "    }\n",
       "</style>\n",
       "<table border=\"1\" class=\"dataframe\">\n",
       "  <thead>\n",
       "    <tr>\n",
       "      <th></th>\n",
       "      <th colspan=\"2\" halign=\"left\">order_day_of_the_week</th>\n",
       "    </tr>\n",
       "    <tr>\n",
       "      <th></th>\n",
       "      <th>mean</th>\n",
       "      <th>median</th>\n",
       "    </tr>\n",
       "    <tr>\n",
       "      <th>marital_status</th>\n",
       "      <th></th>\n",
       "      <th></th>\n",
       "    </tr>\n",
       "  </thead>\n",
       "  <tbody>\n",
       "    <tr>\n",
       "      <th>divorced/widowed</th>\n",
       "      <td>2.760106</td>\n",
       "      <td>3</td>\n",
       "    </tr>\n",
       "    <tr>\n",
       "      <th>living with parents and siblings</th>\n",
       "      <td>2.757920</td>\n",
       "      <td>3</td>\n",
       "    </tr>\n",
       "    <tr>\n",
       "      <th>married</th>\n",
       "      <td>2.749433</td>\n",
       "      <td>3</td>\n",
       "    </tr>\n",
       "    <tr>\n",
       "      <th>single</th>\n",
       "      <td>2.732010</td>\n",
       "      <td>3</td>\n",
       "    </tr>\n",
       "  </tbody>\n",
       "</table>\n",
       "</div>"
      ],
      "text/plain": [
       "                                 order_day_of_the_week       \n",
       "                                                  mean median\n",
       "marital_status                                               \n",
       "divorced/widowed                              2.760106      3\n",
       "living with parents and siblings              2.757920      3\n",
       "married                                       2.749433      3\n",
       "single                                        2.732010      3"
      ]
     },
     "execution_count": 66,
     "metadata": {},
     "output_type": "execute_result"
    }
   ],
   "source": [
    "#Stats on order_day_of_week grouped by marital status\n",
    "\n",
    "df_all.groupby('marital_status').agg({'order_day_of_the_week':['mean','median']})"
   ]
  },
  {
   "cell_type": "code",
   "execution_count": 67,
   "id": "8e6f0cbb",
   "metadata": {},
   "outputs": [
    {
     "data": {
      "text/html": [
       "<div>\n",
       "<style scoped>\n",
       "    .dataframe tbody tr th:only-of-type {\n",
       "        vertical-align: middle;\n",
       "    }\n",
       "\n",
       "    .dataframe tbody tr th {\n",
       "        vertical-align: top;\n",
       "    }\n",
       "\n",
       "    .dataframe thead tr th {\n",
       "        text-align: left;\n",
       "    }\n",
       "\n",
       "    .dataframe thead tr:last-of-type th {\n",
       "        text-align: right;\n",
       "    }\n",
       "</style>\n",
       "<table border=\"1\" class=\"dataframe\">\n",
       "  <thead>\n",
       "    <tr>\n",
       "      <th></th>\n",
       "      <th colspan=\"4\" halign=\"left\">income</th>\n",
       "    </tr>\n",
       "    <tr>\n",
       "      <th></th>\n",
       "      <th>mean</th>\n",
       "      <th>median</th>\n",
       "      <th>min</th>\n",
       "      <th>max</th>\n",
       "    </tr>\n",
       "    <tr>\n",
       "      <th>Country_Region</th>\n",
       "      <th></th>\n",
       "      <th></th>\n",
       "      <th></th>\n",
       "      <th></th>\n",
       "    </tr>\n",
       "  </thead>\n",
       "  <tbody>\n",
       "    <tr>\n",
       "      <th>Midwest</th>\n",
       "      <td>100696.337169</td>\n",
       "      <td>97569</td>\n",
       "      <td>25903</td>\n",
       "      <td>579397</td>\n",
       "    </tr>\n",
       "    <tr>\n",
       "      <th>Northeast</th>\n",
       "      <td>99923.870747</td>\n",
       "      <td>96934</td>\n",
       "      <td>26095</td>\n",
       "      <td>584097</td>\n",
       "    </tr>\n",
       "    <tr>\n",
       "      <th>South</th>\n",
       "      <td>99407.691546</td>\n",
       "      <td>96198</td>\n",
       "      <td>25911</td>\n",
       "      <td>591089</td>\n",
       "    </tr>\n",
       "    <tr>\n",
       "      <th>West</th>\n",
       "      <td>99767.063059</td>\n",
       "      <td>96948</td>\n",
       "      <td>25937</td>\n",
       "      <td>593901</td>\n",
       "    </tr>\n",
       "  </tbody>\n",
       "</table>\n",
       "</div>"
      ],
      "text/plain": [
       "                       income                      \n",
       "                         mean median    min     max\n",
       "Country_Region                                     \n",
       "Midwest         100696.337169  97569  25903  579397\n",
       "Northeast        99923.870747  96934  26095  584097\n",
       "South            99407.691546  96198  25911  591089\n",
       "West             99767.063059  96948  25937  593901"
      ]
     },
     "execution_count": 67,
     "metadata": {},
     "output_type": "execute_result"
    }
   ],
   "source": [
    "#Do those with higher income levels order more frequently? \n",
    "\n",
    "df_all.groupby('Country_Region').agg({'income':['mean','median','min', 'max']})"
   ]
  },
  {
   "cell_type": "code",
   "execution_count": 68,
   "id": "8290901e",
   "metadata": {},
   "outputs": [],
   "source": [
    "df_region_order_levels=df_all.groupby('Country_Region').agg({'income':['mean','median','min', 'max']})"
   ]
  },
  {
   "cell_type": "code",
   "execution_count": 69,
   "id": "77b70459",
   "metadata": {},
   "outputs": [
    {
     "data": {
      "text/html": [
       "<div>\n",
       "<style scoped>\n",
       "    .dataframe tbody tr th:only-of-type {\n",
       "        vertical-align: middle;\n",
       "    }\n",
       "\n",
       "    .dataframe tbody tr th {\n",
       "        vertical-align: top;\n",
       "    }\n",
       "\n",
       "    .dataframe thead tr th {\n",
       "        text-align: left;\n",
       "    }\n",
       "\n",
       "    .dataframe thead tr:last-of-type th {\n",
       "        text-align: right;\n",
       "    }\n",
       "</style>\n",
       "<table border=\"1\" class=\"dataframe\">\n",
       "  <thead>\n",
       "    <tr>\n",
       "      <th></th>\n",
       "      <th colspan=\"4\" halign=\"left\">income</th>\n",
       "    </tr>\n",
       "    <tr>\n",
       "      <th></th>\n",
       "      <th>mean</th>\n",
       "      <th>median</th>\n",
       "      <th>min</th>\n",
       "      <th>max</th>\n",
       "    </tr>\n",
       "    <tr>\n",
       "      <th>Country_Region</th>\n",
       "      <th></th>\n",
       "      <th></th>\n",
       "      <th></th>\n",
       "      <th></th>\n",
       "    </tr>\n",
       "  </thead>\n",
       "  <tbody>\n",
       "    <tr>\n",
       "      <th>Midwest</th>\n",
       "      <td>100696.337169</td>\n",
       "      <td>97569</td>\n",
       "      <td>25903</td>\n",
       "      <td>579397</td>\n",
       "    </tr>\n",
       "    <tr>\n",
       "      <th>Northeast</th>\n",
       "      <td>99923.870747</td>\n",
       "      <td>96934</td>\n",
       "      <td>26095</td>\n",
       "      <td>584097</td>\n",
       "    </tr>\n",
       "    <tr>\n",
       "      <th>South</th>\n",
       "      <td>99407.691546</td>\n",
       "      <td>96198</td>\n",
       "      <td>25911</td>\n",
       "      <td>591089</td>\n",
       "    </tr>\n",
       "    <tr>\n",
       "      <th>West</th>\n",
       "      <td>99767.063059</td>\n",
       "      <td>96948</td>\n",
       "      <td>25937</td>\n",
       "      <td>593901</td>\n",
       "    </tr>\n",
       "  </tbody>\n",
       "</table>\n",
       "</div>"
      ],
      "text/plain": [
       "                       income                      \n",
       "                         mean median    min     max\n",
       "Country_Region                                     \n",
       "Midwest         100696.337169  97569  25903  579397\n",
       "Northeast        99923.870747  96934  26095  584097\n",
       "South            99407.691546  96198  25911  591089\n",
       "West             99767.063059  96948  25937  593901"
      ]
     },
     "execution_count": 69,
     "metadata": {},
     "output_type": "execute_result"
    }
   ],
   "source": [
    "df_region_order_levels"
   ]
  },
  {
   "cell_type": "code",
   "execution_count": 73,
   "id": "99560db8",
   "metadata": {},
   "outputs": [
    {
     "data": {
      "text/plain": [
       "<matplotlib.legend.Legend at 0x7fca42b3cb50>"
      ]
     },
     "execution_count": 73,
     "metadata": {},
     "output_type": "execute_result"
    },
    {
     "data": {
      "image/png": "[encoded data removed]",
      "text/plain": [
       "<Figure size 432x288 with 1 Axes>"
      ]
     },
     "metadata": {
      "needs_background": "light"
     },
     "output_type": "display_data"
    }
   ],
   "source": [
    "region_order_levels_bar = df_region_order_levels.plot.bar(color=['orange','blue','green','red'])\n",
    "plt.legend(title='Order_levels_Regions')"
   ]
  },
  {
   "cell_type": "code",
   "execution_count": 74,
   "id": "ac9d0a3c",
   "metadata": {},
   "outputs": [],
   "source": [
    "#Sum prices paid & group by Parent Status\n",
    "\n",
    "parent_status_prices = df_all.groupby('Parent_Status').agg({'prices':['sum']})"
   ]
  },
  {
   "cell_type": "code",
   "execution_count": 75,
   "id": "e3ceed52",
   "metadata": {},
   "outputs": [
    {
     "data": {
      "text/plain": [
       "<matplotlib.legend.Legend at 0x7fca42cdb9a0>"
      ]
     },
     "execution_count": 75,
     "metadata": {},
     "output_type": "execute_result"
    },
    {
     "data": {
      "image/png": "[encoded data removed]",
      "text/plain": [
       "<Figure size 432x288 with 1 Axes>"
      ]
     },
     "metadata": {
      "needs_background": "light"
     },
     "output_type": "display_data"
    }
   ],
   "source": [
    "bar_parent_status_prices = parent_status_prices.plot.bar(color=['red'])\n",
    "plt.legend(title='Total Spend')"
   ]
  },
  {
   "cell_type": "code",
   "execution_count": 144,
   "id": "9e37e826",
   "metadata": {},
   "outputs": [],
   "source": [
    "#Export chart parent spend\n",
    "bar_parent_status_prices.figure.savefig(os.path.join(path, '04 Analysis','Visualizations', 'bar_parent_status_prices.png'))"
   ]
  },
  {
   "cell_type": "code",
   "execution_count": 77,
   "id": "88f2425a",
   "metadata": {},
   "outputs": [
    {
     "data": {
      "text/html": [
       "<div>\n",
       "<style scoped>\n",
       "    .dataframe tbody tr th:only-of-type {\n",
       "        vertical-align: middle;\n",
       "    }\n",
       "\n",
       "    .dataframe tbody tr th {\n",
       "        vertical-align: top;\n",
       "    }\n",
       "\n",
       "    .dataframe thead th {\n",
       "        text-align: right;\n",
       "    }\n",
       "</style>\n",
       "<table border=\"1\" class=\"dataframe\">\n",
       "  <thead>\n",
       "    <tr style=\"text-align: right;\">\n",
       "      <th>product_id</th>\n",
       "      <th>1</th>\n",
       "      <th>2</th>\n",
       "      <th>3</th>\n",
       "      <th>4</th>\n",
       "      <th>5</th>\n",
       "      <th>6</th>\n",
       "      <th>7</th>\n",
       "      <th>8</th>\n",
       "      <th>9</th>\n",
       "      <th>10</th>\n",
       "      <th>...</th>\n",
       "      <th>49679</th>\n",
       "      <th>49680</th>\n",
       "      <th>49681</th>\n",
       "      <th>49682</th>\n",
       "      <th>49683</th>\n",
       "      <th>49684</th>\n",
       "      <th>49685</th>\n",
       "      <th>49686</th>\n",
       "      <th>49687</th>\n",
       "      <th>49688</th>\n",
       "    </tr>\n",
       "    <tr>\n",
       "      <th>price_range_loc</th>\n",
       "      <th></th>\n",
       "      <th></th>\n",
       "      <th></th>\n",
       "      <th></th>\n",
       "      <th></th>\n",
       "      <th></th>\n",
       "      <th></th>\n",
       "      <th></th>\n",
       "      <th></th>\n",
       "      <th></th>\n",
       "      <th></th>\n",
       "      <th></th>\n",
       "      <th></th>\n",
       "      <th></th>\n",
       "      <th></th>\n",
       "      <th></th>\n",
       "      <th></th>\n",
       "      <th></th>\n",
       "      <th></th>\n",
       "      <th></th>\n",
       "      <th></th>\n",
       "    </tr>\n",
       "  </thead>\n",
       "  <tbody>\n",
       "    <tr>\n",
       "      <th>High-range product</th>\n",
       "      <td>0</td>\n",
       "      <td>0</td>\n",
       "      <td>0</td>\n",
       "      <td>0</td>\n",
       "      <td>0</td>\n",
       "      <td>0</td>\n",
       "      <td>0</td>\n",
       "      <td>0</td>\n",
       "      <td>0</td>\n",
       "      <td>0</td>\n",
       "      <td>...</td>\n",
       "      <td>0</td>\n",
       "      <td>0</td>\n",
       "      <td>0</td>\n",
       "      <td>0</td>\n",
       "      <td>0</td>\n",
       "      <td>0</td>\n",
       "      <td>0</td>\n",
       "      <td>0</td>\n",
       "      <td>0</td>\n",
       "      <td>0</td>\n",
       "    </tr>\n",
       "    <tr>\n",
       "      <th>Low-range product</th>\n",
       "      <td>0</td>\n",
       "      <td>0</td>\n",
       "      <td>210</td>\n",
       "      <td>0</td>\n",
       "      <td>12</td>\n",
       "      <td>8</td>\n",
       "      <td>20</td>\n",
       "      <td>115</td>\n",
       "      <td>0</td>\n",
       "      <td>0</td>\n",
       "      <td>...</td>\n",
       "      <td>0</td>\n",
       "      <td>730</td>\n",
       "      <td>0</td>\n",
       "      <td>82</td>\n",
       "      <td>0</td>\n",
       "      <td>0</td>\n",
       "      <td>36</td>\n",
       "      <td>0</td>\n",
       "      <td>11</td>\n",
       "      <td>0</td>\n",
       "    </tr>\n",
       "    <tr>\n",
       "      <th>Mid-range product</th>\n",
       "      <td>39</td>\n",
       "      <td>2</td>\n",
       "      <td>0</td>\n",
       "      <td>4</td>\n",
       "      <td>0</td>\n",
       "      <td>0</td>\n",
       "      <td>0</td>\n",
       "      <td>0</td>\n",
       "      <td>7</td>\n",
       "      <td>61</td>\n",
       "      <td>...</td>\n",
       "      <td>2</td>\n",
       "      <td>0</td>\n",
       "      <td>0</td>\n",
       "      <td>0</td>\n",
       "      <td>2397</td>\n",
       "      <td>0</td>\n",
       "      <td>0</td>\n",
       "      <td>0</td>\n",
       "      <td>0</td>\n",
       "      <td>0</td>\n",
       "    </tr>\n",
       "  </tbody>\n",
       "</table>\n",
       "<p>3 rows × 49418 columns</p>\n",
       "</div>"
      ],
      "text/plain": [
       "product_id          1      2      3      4      5      6      7      8      \\\n",
       "price_range_loc                                                              \n",
       "High-range product      0      0      0      0      0      0      0      0   \n",
       "Low-range product       0      0    210      0     12      8     20    115   \n",
       "Mid-range product      39      2      0      4      0      0      0      0   \n",
       "\n",
       "product_id          9      10     ...  49679  49680  49681  49682  49683  \\\n",
       "price_range_loc                   ...                                      \n",
       "High-range product      0      0  ...      0      0      0      0      0   \n",
       "Low-range product       0      0  ...      0    730      0     82      0   \n",
       "Mid-range product       7     61  ...      2      0      0      0   2397   \n",
       "\n",
       "product_id          49684  49685  49686  49687  49688  \n",
       "price_range_loc                                        \n",
       "High-range product      0      0      0      0      0  \n",
       "Low-range product       0     36      0     11      0  \n",
       "Mid-range product       0      0      0      0      0  \n",
       "\n",
       "[3 rows x 49418 columns]"
      ]
     },
     "execution_count": 77,
     "metadata": {},
     "output_type": "execute_result"
    }
   ],
   "source": [
    "crosstab_prices_product = pd.crosstab(df_all['price_range_loc'], df_all['product_id'], dropna = False)\n",
    "crosstab_prices_product"
   ]
  },
  {
   "cell_type": "code",
   "execution_count": 78,
   "id": "d66b75a2",
   "metadata": {},
   "outputs": [],
   "source": [
    "#Sum products by price_range_loc\n",
    "\n",
    "price_range_product = df_all.groupby('price_range_loc').agg({'product_id':['sum']})"
   ]
  },
  {
   "cell_type": "code",
   "execution_count": 79,
   "id": "4eaf4d3d",
   "metadata": {},
   "outputs": [
    {
     "data": {
      "text/html": [
       "<div>\n",
       "<style scoped>\n",
       "    .dataframe tbody tr th:only-of-type {\n",
       "        vertical-align: middle;\n",
       "    }\n",
       "\n",
       "    .dataframe tbody tr th {\n",
       "        vertical-align: top;\n",
       "    }\n",
       "\n",
       "    .dataframe thead tr th {\n",
       "        text-align: left;\n",
       "    }\n",
       "\n",
       "    .dataframe thead tr:last-of-type th {\n",
       "        text-align: right;\n",
       "    }\n",
       "</style>\n",
       "<table border=\"1\" class=\"dataframe\">\n",
       "  <thead>\n",
       "    <tr>\n",
       "      <th></th>\n",
       "      <th>product_id</th>\n",
       "    </tr>\n",
       "    <tr>\n",
       "      <th></th>\n",
       "      <th>sum</th>\n",
       "    </tr>\n",
       "    <tr>\n",
       "      <th>price_range_loc</th>\n",
       "      <th></th>\n",
       "    </tr>\n",
       "  </thead>\n",
       "  <tbody>\n",
       "    <tr>\n",
       "      <th>High-range product</th>\n",
       "      <td>7124758776</td>\n",
       "    </tr>\n",
       "    <tr>\n",
       "      <th>Low-range product</th>\n",
       "      <td>197670402213</td>\n",
       "    </tr>\n",
       "    <tr>\n",
       "      <th>Mid-range product</th>\n",
       "      <td>12900073717</td>\n",
       "    </tr>\n",
       "  </tbody>\n",
       "</table>\n",
       "</div>"
      ],
      "text/plain": [
       "                      product_id\n",
       "                             sum\n",
       "price_range_loc                 \n",
       "High-range product    7124758776\n",
       "Low-range product   197670402213\n",
       "Mid-range product    12900073717"
      ]
     },
     "execution_count": 79,
     "metadata": {},
     "output_type": "execute_result"
    }
   ],
   "source": [
    "price_range_product"
   ]
  },
  {
   "cell_type": "code",
   "execution_count": 81,
   "id": "ab64bae0",
   "metadata": {},
   "outputs": [
    {
     "data": {
      "text/plain": [
       "<matplotlib.legend.Legend at 0x7fca426832b0>"
      ]
     },
     "execution_count": 81,
     "metadata": {},
     "output_type": "execute_result"
    },
    {
     "data": {
      "image/png": "[encoded data removed]",
      "text/plain": [
       "<Figure size 432x288 with 1 Axes>"
      ]
     },
     "metadata": {
      "needs_background": "light"
     },
     "output_type": "display_data"
    }
   ],
   "source": [
    "bar_price_range_product = price_range_product.plot.bar(color=['blue'])\n",
    "plt.legend(title='Sum of Products Price Range')"
   ]
  },
  {
   "cell_type": "code",
   "execution_count": 82,
   "id": "2d5f647f",
   "metadata": {},
   "outputs": [
    {
     "data": {
      "text/html": [
       "<div>\n",
       "<style scoped>\n",
       "    .dataframe tbody tr th:only-of-type {\n",
       "        vertical-align: middle;\n",
       "    }\n",
       "\n",
       "    .dataframe tbody tr th {\n",
       "        vertical-align: top;\n",
       "    }\n",
       "\n",
       "    .dataframe thead th {\n",
       "        text-align: right;\n",
       "    }\n",
       "</style>\n",
       "<table border=\"1\" class=\"dataframe\">\n",
       "  <thead>\n",
       "    <tr style=\"text-align: right;\">\n",
       "      <th>spending</th>\n",
       "      <th>1.000000</th>\n",
       "      <th>1.100000</th>\n",
       "      <th>1.262500</th>\n",
       "      <th>1.300000</th>\n",
       "      <th>1.308333</th>\n",
       "      <th>1.360000</th>\n",
       "      <th>1.400000</th>\n",
       "      <th>1.425000</th>\n",
       "      <th>1.500000</th>\n",
       "      <th>1.522222</th>\n",
       "      <th>...</th>\n",
       "      <th>5668.766038</th>\n",
       "      <th>6388.812766</th>\n",
       "      <th>6389.512766</th>\n",
       "      <th>6390.138298</th>\n",
       "      <th>6983.593023</th>\n",
       "      <th>7414.485185</th>\n",
       "      <th>8794.882427</th>\n",
       "      <th>10209.987755</th>\n",
       "      <th>14042.512281</th>\n",
       "      <th>15006.940000</th>\n",
       "    </tr>\n",
       "    <tr>\n",
       "      <th>price_range_loc</th>\n",
       "      <th></th>\n",
       "      <th></th>\n",
       "      <th></th>\n",
       "      <th></th>\n",
       "      <th></th>\n",
       "      <th></th>\n",
       "      <th></th>\n",
       "      <th></th>\n",
       "      <th></th>\n",
       "      <th></th>\n",
       "      <th></th>\n",
       "      <th></th>\n",
       "      <th></th>\n",
       "      <th></th>\n",
       "      <th></th>\n",
       "      <th></th>\n",
       "      <th></th>\n",
       "      <th></th>\n",
       "      <th></th>\n",
       "      <th></th>\n",
       "      <th></th>\n",
       "    </tr>\n",
       "  </thead>\n",
       "  <tbody>\n",
       "    <tr>\n",
       "      <th>High-range product</th>\n",
       "      <td>0</td>\n",
       "      <td>0</td>\n",
       "      <td>0</td>\n",
       "      <td>0</td>\n",
       "      <td>0</td>\n",
       "      <td>0</td>\n",
       "      <td>0</td>\n",
       "      <td>0</td>\n",
       "      <td>0</td>\n",
       "      <td>0</td>\n",
       "      <td>...</td>\n",
       "      <td>0</td>\n",
       "      <td>3</td>\n",
       "      <td>0</td>\n",
       "      <td>0</td>\n",
       "      <td>0</td>\n",
       "      <td>0</td>\n",
       "      <td>28</td>\n",
       "      <td>2</td>\n",
       "      <td>9</td>\n",
       "      <td>4</td>\n",
       "    </tr>\n",
       "    <tr>\n",
       "      <th>Low-range product</th>\n",
       "      <td>4</td>\n",
       "      <td>3</td>\n",
       "      <td>3</td>\n",
       "      <td>6</td>\n",
       "      <td>7</td>\n",
       "      <td>1</td>\n",
       "      <td>4</td>\n",
       "      <td>3</td>\n",
       "      <td>4</td>\n",
       "      <td>5</td>\n",
       "      <td>...</td>\n",
       "      <td>2</td>\n",
       "      <td>14</td>\n",
       "      <td>6</td>\n",
       "      <td>2</td>\n",
       "      <td>6</td>\n",
       "      <td>1</td>\n",
       "      <td>51</td>\n",
       "      <td>6</td>\n",
       "      <td>9</td>\n",
       "      <td>6</td>\n",
       "    </tr>\n",
       "    <tr>\n",
       "      <th>Mid-range product</th>\n",
       "      <td>0</td>\n",
       "      <td>0</td>\n",
       "      <td>0</td>\n",
       "      <td>0</td>\n",
       "      <td>0</td>\n",
       "      <td>0</td>\n",
       "      <td>0</td>\n",
       "      <td>0</td>\n",
       "      <td>0</td>\n",
       "      <td>0</td>\n",
       "      <td>...</td>\n",
       "      <td>0</td>\n",
       "      <td>0</td>\n",
       "      <td>0</td>\n",
       "      <td>0</td>\n",
       "      <td>0</td>\n",
       "      <td>0</td>\n",
       "      <td>0</td>\n",
       "      <td>0</td>\n",
       "      <td>0</td>\n",
       "      <td>0</td>\n",
       "    </tr>\n",
       "  </tbody>\n",
       "</table>\n",
       "<p>3 rows × 145855 columns</p>\n",
       "</div>"
      ],
      "text/plain": [
       "spending            1.000000      1.100000      1.262500      1.300000      \\\n",
       "price_range_loc                                                              \n",
       "High-range product             0             0             0             0   \n",
       "Low-range product              4             3             3             6   \n",
       "Mid-range product              0             0             0             0   \n",
       "\n",
       "spending            1.308333      1.360000      1.400000      1.425000      \\\n",
       "price_range_loc                                                              \n",
       "High-range product             0             0             0             0   \n",
       "Low-range product              7             1             4             3   \n",
       "Mid-range product              0             0             0             0   \n",
       "\n",
       "spending            1.500000      1.522222      ...  5668.766038   \\\n",
       "price_range_loc                                 ...                 \n",
       "High-range product             0             0  ...             0   \n",
       "Low-range product              4             5  ...             2   \n",
       "Mid-range product              0             0  ...             0   \n",
       "\n",
       "spending            6388.812766   6389.512766   6390.138298   6983.593023   \\\n",
       "price_range_loc                                                              \n",
       "High-range product             3             0             0             0   \n",
       "Low-range product             14             6             2             6   \n",
       "Mid-range product              0             0             0             0   \n",
       "\n",
       "spending            7414.485185   8794.882427   10209.987755  14042.512281  \\\n",
       "price_range_loc                                                              \n",
       "High-range product             0            28             2             9   \n",
       "Low-range product              1            51             6             9   \n",
       "Mid-range product              0             0             0             0   \n",
       "\n",
       "spending            15006.940000  \n",
       "price_range_loc                   \n",
       "High-range product             4  \n",
       "Low-range product              6  \n",
       "Mid-range product              0  \n",
       "\n",
       "[3 rows x 145855 columns]"
      ]
     },
     "execution_count": 82,
     "metadata": {},
     "output_type": "execute_result"
    }
   ],
   "source": [
    "crosstab_spending_price_range = pd.crosstab(df_all['price_range_loc'], df_all['spending'], dropna = False)\n",
    "crosstab_spending_price_range"
   ]
  },
  {
   "cell_type": "code",
   "execution_count": 83,
   "id": "1249abb9",
   "metadata": {},
   "outputs": [],
   "source": [
    "spending_price_range = df_all.groupby('price_range_loc').agg({'spending':['mean']})"
   ]
  },
  {
   "cell_type": "code",
   "execution_count": 84,
   "id": "f285304b",
   "metadata": {},
   "outputs": [
    {
     "data": {
      "text/html": [
       "<div>\n",
       "<style scoped>\n",
       "    .dataframe tbody tr th:only-of-type {\n",
       "        vertical-align: middle;\n",
       "    }\n",
       "\n",
       "    .dataframe tbody tr th {\n",
       "        vertical-align: top;\n",
       "    }\n",
       "\n",
       "    .dataframe thead tr th {\n",
       "        text-align: left;\n",
       "    }\n",
       "\n",
       "    .dataframe thead tr:last-of-type th {\n",
       "        text-align: right;\n",
       "    }\n",
       "</style>\n",
       "<table border=\"1\" class=\"dataframe\">\n",
       "  <thead>\n",
       "    <tr>\n",
       "      <th></th>\n",
       "      <th>spending</th>\n",
       "    </tr>\n",
       "    <tr>\n",
       "      <th></th>\n",
       "      <th>mean</th>\n",
       "    </tr>\n",
       "    <tr>\n",
       "      <th>price_range_loc</th>\n",
       "      <th></th>\n",
       "    </tr>\n",
       "  </thead>\n",
       "  <tbody>\n",
       "    <tr>\n",
       "      <th>High-range product</th>\n",
       "      <td>20.615173</td>\n",
       "    </tr>\n",
       "    <tr>\n",
       "      <th>Low-range product</th>\n",
       "      <td>11.475465</td>\n",
       "    </tr>\n",
       "    <tr>\n",
       "      <th>Mid-range product</th>\n",
       "      <td>10.777778</td>\n",
       "    </tr>\n",
       "  </tbody>\n",
       "</table>\n",
       "</div>"
      ],
      "text/plain": [
       "                     spending\n",
       "                         mean\n",
       "price_range_loc              \n",
       "High-range product  20.615173\n",
       "Low-range product   11.475465\n",
       "Mid-range product   10.777778"
      ]
     },
     "execution_count": 84,
     "metadata": {},
     "output_type": "execute_result"
    }
   ],
   "source": [
    "spending_price_range"
   ]
  },
  {
   "cell_type": "code",
   "execution_count": 85,
   "id": "c8971399",
   "metadata": {},
   "outputs": [
    {
     "data": {
      "text/plain": [
       "<matplotlib.legend.Legend at 0x7fca426728b0>"
      ]
     },
     "execution_count": 85,
     "metadata": {},
     "output_type": "execute_result"
    },
    {
     "data": {
      "image/png": "[encoded data removed]",
      "text/plain": [
       "<Figure size 432x288 with 1 Axes>"
      ]
     },
     "metadata": {
      "needs_background": "light"
     },
     "output_type": "display_data"
    }
   ],
   "source": [
    "bar_spending_price_range = spending_price_range.plot.bar(color=['blue'])\n",
    "plt.legend(title='Average Spend Price Range Product')"
   ]
  },
  {
   "cell_type": "code",
   "execution_count": 120,
   "id": "024b237c",
   "metadata": {},
   "outputs": [
    {
     "data": {
      "text/html": [
       "<div>\n",
       "<style scoped>\n",
       "    .dataframe tbody tr th:only-of-type {\n",
       "        vertical-align: middle;\n",
       "    }\n",
       "\n",
       "    .dataframe tbody tr th {\n",
       "        vertical-align: top;\n",
       "    }\n",
       "\n",
       "    .dataframe thead th {\n",
       "        text-align: right;\n",
       "    }\n",
       "</style>\n",
       "<table border=\"1\" class=\"dataframe\">\n",
       "  <thead>\n",
       "    <tr style=\"text-align: right;\">\n",
       "      <th>marital_status</th>\n",
       "      <th>divorced/widowed</th>\n",
       "      <th>living with parents and siblings</th>\n",
       "      <th>married</th>\n",
       "      <th>single</th>\n",
       "    </tr>\n",
       "    <tr>\n",
       "      <th>department_id</th>\n",
       "      <th></th>\n",
       "      <th></th>\n",
       "      <th></th>\n",
       "      <th></th>\n",
       "    </tr>\n",
       "  </thead>\n",
       "  <tbody>\n",
       "    <tr>\n",
       "      <th>1.0</th>\n",
       "      <td>141623</td>\n",
       "      <td>79512</td>\n",
       "      <td>1142589</td>\n",
       "      <td>263890</td>\n",
       "    </tr>\n",
       "    <tr>\n",
       "      <th>2.0</th>\n",
       "      <td>2267</td>\n",
       "      <td>1460</td>\n",
       "      <td>18771</td>\n",
       "      <td>4668</td>\n",
       "    </tr>\n",
       "    <tr>\n",
       "      <th>3.0</th>\n",
       "      <td>75587</td>\n",
       "      <td>42543</td>\n",
       "      <td>619188</td>\n",
       "      <td>146012</td>\n",
       "    </tr>\n",
       "    <tr>\n",
       "      <th>4.0</th>\n",
       "      <td>619577</td>\n",
       "      <td>343702</td>\n",
       "      <td>5070504</td>\n",
       "      <td>1193308</td>\n",
       "    </tr>\n",
       "    <tr>\n",
       "      <th>5.0</th>\n",
       "      <td>8936</td>\n",
       "      <td>6284</td>\n",
       "      <td>73729</td>\n",
       "      <td>19023</td>\n",
       "    </tr>\n",
       "    <tr>\n",
       "      <th>6.0</th>\n",
       "      <td>16965</td>\n",
       "      <td>9659</td>\n",
       "      <td>138203</td>\n",
       "      <td>33073</td>\n",
       "    </tr>\n",
       "    <tr>\n",
       "      <th>7.0</th>\n",
       "      <td>175452</td>\n",
       "      <td>94324</td>\n",
       "      <td>1430068</td>\n",
       "      <td>336603</td>\n",
       "    </tr>\n",
       "    <tr>\n",
       "      <th>8.0</th>\n",
       "      <td>6262</td>\n",
       "      <td>4190</td>\n",
       "      <td>49671</td>\n",
       "      <td>11988</td>\n",
       "    </tr>\n",
       "    <tr>\n",
       "      <th>9.0</th>\n",
       "      <td>54174</td>\n",
       "      <td>30606</td>\n",
       "      <td>445705</td>\n",
       "      <td>103240</td>\n",
       "    </tr>\n",
       "    <tr>\n",
       "      <th>10.0</th>\n",
       "      <td>2213</td>\n",
       "      <td>1347</td>\n",
       "      <td>19626</td>\n",
       "      <td>4372</td>\n",
       "    </tr>\n",
       "    <tr>\n",
       "      <th>11.0</th>\n",
       "      <td>28189</td>\n",
       "      <td>15627</td>\n",
       "      <td>230492</td>\n",
       "      <td>54172</td>\n",
       "    </tr>\n",
       "    <tr>\n",
       "      <th>12.0</th>\n",
       "      <td>44554</td>\n",
       "      <td>25251</td>\n",
       "      <td>370433</td>\n",
       "      <td>83652</td>\n",
       "    </tr>\n",
       "    <tr>\n",
       "      <th>13.0</th>\n",
       "      <td>118637</td>\n",
       "      <td>67169</td>\n",
       "      <td>972888</td>\n",
       "      <td>226681</td>\n",
       "    </tr>\n",
       "    <tr>\n",
       "      <th>14.0</th>\n",
       "      <td>44414</td>\n",
       "      <td>26224</td>\n",
       "      <td>368561</td>\n",
       "      <td>85746</td>\n",
       "    </tr>\n",
       "    <tr>\n",
       "      <th>15.0</th>\n",
       "      <td>65423</td>\n",
       "      <td>37784</td>\n",
       "      <td>554557</td>\n",
       "      <td>130026</td>\n",
       "    </tr>\n",
       "    <tr>\n",
       "      <th>16.0</th>\n",
       "      <td>352593</td>\n",
       "      <td>199894</td>\n",
       "      <td>2890356</td>\n",
       "      <td>677645</td>\n",
       "    </tr>\n",
       "    <tr>\n",
       "      <th>17.0</th>\n",
       "      <td>45168</td>\n",
       "      <td>25796</td>\n",
       "      <td>381394</td>\n",
       "      <td>86991</td>\n",
       "    </tr>\n",
       "    <tr>\n",
       "      <th>18.0</th>\n",
       "      <td>27775</td>\n",
       "      <td>15595</td>\n",
       "      <td>236039</td>\n",
       "      <td>56538</td>\n",
       "    </tr>\n",
       "    <tr>\n",
       "      <th>19.0</th>\n",
       "      <td>186821</td>\n",
       "      <td>103918</td>\n",
       "      <td>1537764</td>\n",
       "      <td>358618</td>\n",
       "    </tr>\n",
       "    <tr>\n",
       "      <th>20.0</th>\n",
       "      <td>68073</td>\n",
       "      <td>37543</td>\n",
       "      <td>547474</td>\n",
       "      <td>129921</td>\n",
       "    </tr>\n",
       "    <tr>\n",
       "      <th>21.0</th>\n",
       "      <td>4509</td>\n",
       "      <td>2971</td>\n",
       "      <td>40464</td>\n",
       "      <td>9623</td>\n",
       "    </tr>\n",
       "  </tbody>\n",
       "</table>\n",
       "</div>"
      ],
      "text/plain": [
       "marital_status  divorced/widowed  living with parents and siblings  married  \\\n",
       "department_id                                                                 \n",
       "1.0                       141623                             79512  1142589   \n",
       "2.0                         2267                              1460    18771   \n",
       "3.0                        75587                             42543   619188   \n",
       "4.0                       619577                            343702  5070504   \n",
       "5.0                         8936                              6284    73729   \n",
       "6.0                        16965                              9659   138203   \n",
       "7.0                       175452                             94324  1430068   \n",
       "8.0                         6262                              4190    49671   \n",
       "9.0                        54174                             30606   445705   \n",
       "10.0                        2213                              1347    19626   \n",
       "11.0                       28189                             15627   230492   \n",
       "12.0                       44554                             25251   370433   \n",
       "13.0                      118637                             67169   972888   \n",
       "14.0                       44414                             26224   368561   \n",
       "15.0                       65423                             37784   554557   \n",
       "16.0                      352593                            199894  2890356   \n",
       "17.0                       45168                             25796   381394   \n",
       "18.0                       27775                             15595   236039   \n",
       "19.0                      186821                            103918  1537764   \n",
       "20.0                       68073                             37543   547474   \n",
       "21.0                        4509                              2971    40464   \n",
       "\n",
       "marital_status   single  \n",
       "department_id            \n",
       "1.0              263890  \n",
       "2.0                4668  \n",
       "3.0              146012  \n",
       "4.0             1193308  \n",
       "5.0               19023  \n",
       "6.0               33073  \n",
       "7.0              336603  \n",
       "8.0               11988  \n",
       "9.0              103240  \n",
       "10.0               4372  \n",
       "11.0              54172  \n",
       "12.0              83652  \n",
       "13.0             226681  \n",
       "14.0              85746  \n",
       "15.0             130026  \n",
       "16.0             677645  \n",
       "17.0              86991  \n",
       "18.0              56538  \n",
       "19.0             358618  \n",
       "20.0             129921  \n",
       "21.0               9623  "
      ]
     },
     "execution_count": 120,
     "metadata": {},
     "output_type": "execute_result"
    }
   ],
   "source": [
    "#Martial Status by Department\n",
    "\n",
    "crosstab_marital_department = pd.crosstab(df_all['department_id'],df_all['marital_status'], dropna=False )\n",
    "crosstab_marital_department "
   ]
  },
  {
   "cell_type": "code",
   "execution_count": 127,
   "id": "4c361ff6",
   "metadata": {},
   "outputs": [],
   "source": [
    "#Count of user_id in each marital status category\n",
    "\n",
    "df_marital_region_sum = df_all.groupby(['marital_status']).agg({'user_id':['nunique']})"
   ]
  },
  {
   "cell_type": "code",
   "execution_count": 128,
   "id": "66922ad1",
   "metadata": {},
   "outputs": [
    {
     "data": {
      "text/plain": [
       "<matplotlib.legend.Legend at 0x7fca44ded7f0>"
      ]
     },
     "execution_count": 128,
     "metadata": {},
     "output_type": "execute_result"
    },
    {
     "data": {
      "image/png": "[encoded data removed]",
      "text/plain": [
       "<Figure size 432x288 with 1 Axes>"
      ]
     },
     "metadata": {
      "needs_background": "light"
     },
     "output_type": "display_data"
    }
   ],
   "source": [
    "#Create Bar Chart for marital status\n",
    "\n",
    "bar_martial = df_marital_region_sum.plot.bar(color=['orange'])\n",
    "plt.legend(title='Marital Status')"
   ]
  },
  {
   "cell_type": "code",
   "execution_count": 143,
   "id": "3f6f89c5",
   "metadata": {},
   "outputs": [],
   "source": [
    "#Export chart martial status\n",
    "bar_martial.figure.savefig(os.path.join(path, '04 Analysis','Visualizations', 'bar_marital_status.png'))"
   ]
  },
  {
   "cell_type": "code",
   "execution_count": 129,
   "id": "56ae85d1",
   "metadata": {},
   "outputs": [],
   "source": [
    "#Count of user_id in each region category\n",
    "\n",
    "df_region_sum = df_all.groupby(['Country_Region']).agg({'user_id':['nunique']})"
   ]
  },
  {
   "cell_type": "code",
   "execution_count": 131,
   "id": "7ffce4b7",
   "metadata": {},
   "outputs": [
    {
     "data": {
      "text/plain": [
       "<matplotlib.legend.Legend at 0x7fca4352a3d0>"
      ]
     },
     "execution_count": 131,
     "metadata": {},
     "output_type": "execute_result"
    },
    {
     "data": {
      "image/png": "[encoded data removed]",
      "text/plain": [
       "<Figure size 432x288 with 1 Axes>"
      ]
     },
     "metadata": {
      "needs_background": "light"
     },
     "output_type": "display_data"
    }
   ],
   "source": [
    "#Create Bar Chart for region\n",
    "\n",
    "bar_region = df_region_sum.plot.bar(color=['pink'])\n",
    "plt.legend(title='Region')"
   ]
  },
  {
   "cell_type": "code",
   "execution_count": 141,
   "id": "063b9b76",
   "metadata": {},
   "outputs": [],
   "source": [
    "#Export chart region \n",
    "bar_region.figure.savefig(os.path.join(path, '04 Analysis','Visualizations', 'bar_region.png'))"
   ]
  },
  {
   "cell_type": "code",
   "execution_count": 132,
   "id": "f05ac1ab",
   "metadata": {},
   "outputs": [
    {
     "data": {
      "text/html": [
       "<div>\n",
       "<style scoped>\n",
       "    .dataframe tbody tr th:only-of-type {\n",
       "        vertical-align: middle;\n",
       "    }\n",
       "\n",
       "    .dataframe tbody tr th {\n",
       "        vertical-align: top;\n",
       "    }\n",
       "\n",
       "    .dataframe thead th {\n",
       "        text-align: right;\n",
       "    }\n",
       "</style>\n",
       "<table border=\"1\" class=\"dataframe\">\n",
       "  <thead>\n",
       "    <tr style=\"text-align: right;\">\n",
       "      <th>marital_status</th>\n",
       "      <th>divorced/widowed</th>\n",
       "      <th>living with parents and siblings</th>\n",
       "      <th>married</th>\n",
       "      <th>single</th>\n",
       "    </tr>\n",
       "    <tr>\n",
       "      <th>spending_flag</th>\n",
       "      <th></th>\n",
       "      <th></th>\n",
       "      <th></th>\n",
       "      <th></th>\n",
       "    </tr>\n",
       "  </thead>\n",
       "  <tbody>\n",
       "    <tr>\n",
       "      <th>High Spender</th>\n",
       "      <td>40502</td>\n",
       "      <td>22845</td>\n",
       "      <td>343723</td>\n",
       "      <td>75991</td>\n",
       "    </tr>\n",
       "    <tr>\n",
       "      <th>Low Spender</th>\n",
       "      <td>2050684</td>\n",
       "      <td>1149778</td>\n",
       "      <td>16810210</td>\n",
       "      <td>3943731</td>\n",
       "    </tr>\n",
       "  </tbody>\n",
       "</table>\n",
       "</div>"
      ],
      "text/plain": [
       "marital_status  divorced/widowed  living with parents and siblings   married  \\\n",
       "spending_flag                                                                  \n",
       "High Spender               40502                             22845    343723   \n",
       "Low Spender              2050684                           1149778  16810210   \n",
       "\n",
       "marital_status   single  \n",
       "spending_flag            \n",
       "High Spender      75991  \n",
       "Low Spender     3943731  "
      ]
     },
     "execution_count": 132,
     "metadata": {},
     "output_type": "execute_result"
    }
   ],
   "source": [
    "#Martial Status by spend\n",
    "\n",
    "crosstab_marital_spend = pd.crosstab(df_all['spending_flag'],df_all['marital_status'], dropna=False )\n",
    "crosstab_marital_spend"
   ]
  },
  {
   "cell_type": "code",
   "execution_count": 133,
   "id": "3ecf922c",
   "metadata": {},
   "outputs": [
    {
     "data": {
      "text/plain": [
       "<matplotlib.legend.Legend at 0x7fca44f43490>"
      ]
     },
     "execution_count": 133,
     "metadata": {},
     "output_type": "execute_result"
    },
    {
     "data": {
      "image/png": "[encoded data removed]",
      "text/plain": [
       "<Figure size 432x288 with 1 Axes>"
      ]
     },
     "metadata": {
      "needs_background": "light"
     },
     "output_type": "display_data"
    }
   ],
   "source": [
    "#Create stacked Bar Chart for marriage status & Spend\n",
    "\n",
    "marital_spend_stacked_bar = crosstab_marital_spend.plot.bar(stacked= True)\n",
    "plt.legend(title='Marital Status Spend')"
   ]
  },
  {
   "cell_type": "code",
   "execution_count": 134,
   "id": "fb00b04f",
   "metadata": {},
   "outputs": [
    {
     "data": {
      "text/html": [
       "<div>\n",
       "<style scoped>\n",
       "    .dataframe tbody tr th:only-of-type {\n",
       "        vertical-align: middle;\n",
       "    }\n",
       "\n",
       "    .dataframe tbody tr th {\n",
       "        vertical-align: top;\n",
       "    }\n",
       "\n",
       "    .dataframe thead th {\n",
       "        text-align: right;\n",
       "    }\n",
       "</style>\n",
       "<table border=\"1\" class=\"dataframe\">\n",
       "  <thead>\n",
       "    <tr style=\"text-align: right;\">\n",
       "      <th>Parent_Status</th>\n",
       "      <th>Middle Age Parent</th>\n",
       "      <th>No Dependents</th>\n",
       "      <th>Older Parent</th>\n",
       "      <th>Young Parent</th>\n",
       "    </tr>\n",
       "    <tr>\n",
       "      <th>spending_flag</th>\n",
       "      <th></th>\n",
       "      <th></th>\n",
       "      <th></th>\n",
       "      <th></th>\n",
       "    </tr>\n",
       "  </thead>\n",
       "  <tbody>\n",
       "    <tr>\n",
       "      <th>High Spender</th>\n",
       "      <td>97201</td>\n",
       "      <td>116493</td>\n",
       "      <td>176647</td>\n",
       "      <td>92720</td>\n",
       "    </tr>\n",
       "    <tr>\n",
       "      <th>Low Spender</th>\n",
       "      <td>4250292</td>\n",
       "      <td>5994415</td>\n",
       "      <td>8919552</td>\n",
       "      <td>4790144</td>\n",
       "    </tr>\n",
       "  </tbody>\n",
       "</table>\n",
       "</div>"
      ],
      "text/plain": [
       "Parent_Status  Middle Age Parent  No Dependents  Older Parent  Young Parent\n",
       "spending_flag                                                              \n",
       "High Spender               97201         116493        176647         92720\n",
       "Low Spender              4250292        5994415       8919552       4790144"
      ]
     },
     "execution_count": 134,
     "metadata": {},
     "output_type": "execute_result"
    }
   ],
   "source": [
    "#Parent Status by spend\n",
    "\n",
    "crosstab_parental_spend = pd.crosstab(df_all['spending_flag'],df_all['Parent_Status'], dropna=False )\n",
    "crosstab_parental_spend"
   ]
  },
  {
   "cell_type": "code",
   "execution_count": 135,
   "id": "ddf4b41e",
   "metadata": {},
   "outputs": [
    {
     "data": {
      "text/plain": [
       "<matplotlib.legend.Legend at 0x7fca450317f0>"
      ]
     },
     "execution_count": 135,
     "metadata": {},
     "output_type": "execute_result"
    },
    {
     "data": {
      "image/png": "[encoded data removed]",
      "text/plain": [
       "<Figure size 432x288 with 1 Axes>"
      ]
     },
     "metadata": {
      "needs_background": "light"
     },
     "output_type": "display_data"
    }
   ],
   "source": [
    "#Create stacked Bar Chart for parent status & Spend\n",
    "\n",
    "parental_spend_stacked_bar = crosstab_parental_spend.plot.bar(stacked= True)\n",
    "plt.legend(title='Parent Status Spend')"
   ]
  },
  {
   "cell_type": "code",
   "execution_count": 137,
   "id": "2dbf91ac",
   "metadata": {},
   "outputs": [],
   "source": [
    "#Count of parent spend\n",
    "\n",
    "df_parent_spend_sum = df_all.groupby(['Parent_Status']).agg({'spending':['sum']})"
   ]
  },
  {
   "cell_type": "code",
   "execution_count": 140,
   "id": "5135c63c",
   "metadata": {},
   "outputs": [
    {
     "data": {
      "text/plain": [
       "<matplotlib.legend.Legend at 0x7fca45344b50>"
      ]
     },
     "execution_count": 140,
     "metadata": {},
     "output_type": "execute_result"
    },
    {
     "data": {
      "image/png": "[encoded data removed]",
      "text/plain": [
       "<Figure size 432x288 with 1 Axes>"
      ]
     },
     "metadata": {
      "needs_background": "light"
     },
     "output_type": "display_data"
    }
   ],
   "source": [
    "#Create Bar Chart for region\n",
    "\n",
    "bar_parent_spend_sum = df_parent_spend_sum.plot.bar(color=['red'])\n",
    "plt.legend(title='Parent Status')"
   ]
  },
  {
   "cell_type": "code",
   "execution_count": null,
   "id": "73e60c42",
   "metadata": {},
   "outputs": [],
   "source": []
  }
 ],
 "metadata": {
  "kernelspec": {
   "display_name": "Python 3",
   "language": "python",
   "name": "python3"
  },
  "language_info": {
   "codemirror_mode": {
    "name": "ipython",
    "version": 3
   },
   "file_extension": ".py",
   "mimetype": "text/x-python",
   "name": "python",
   "nbconvert_exporter": "python",
   "pygments_lexer": "ipython3",
   "version": "3.8.8"
  }
 },
 "nbformat": 4,
 "nbformat_minor": 5
}
